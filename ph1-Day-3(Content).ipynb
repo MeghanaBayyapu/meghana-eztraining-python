{
 "cells": [
  {
   "cell_type": "code",
   "execution_count": 2,
   "id": "d4355bed",
   "metadata": {},
   "outputs": [],
   "source": [
    "#1.list allows duplication\n",
    "#2.list is a sequence of elements of different data types "
   ]
  },
  {
   "cell_type": "markdown",
   "id": "540f9ee3",
   "metadata": {},
   "source": [
    "#List Functions\n",
    "1. append() = add an element at the end of the list\n",
    "2. extend() = add a list to the existing one \n",
    "3. insert() = insert an element at the defined index \n",
    "4. remove() = remove an element from the list\n",
    "5. pop()    = removes and returns an element at the given index \n",
    "6. clear()  = removes all elements\n",
    "7. index()  = returns index\n",
    "8. count()  = returns the count of a duplicate element\n",
    "9. sort()   = sorts the list\n",
    "10.reverse() = reverse the list\n",
    "11.copy() = copies the list"
   ]
  },
  {
   "cell_type": "code",
   "execution_count": 9,
   "id": "07d0210f",
   "metadata": {},
   "outputs": [],
   "source": [
    "l = [1,3,5,3.4,5,\"joy\"]"
   ]
  },
  {
   "cell_type": "code",
   "execution_count": 10,
   "id": "478e6517",
   "metadata": {},
   "outputs": [
    {
     "data": {
      "text/plain": [
       "1"
      ]
     },
     "execution_count": 10,
     "metadata": {},
     "output_type": "execute_result"
    }
   ],
   "source": [
    "l[0]"
   ]
  },
  {
   "cell_type": "code",
   "execution_count": 11,
   "id": "62be8797",
   "metadata": {},
   "outputs": [
    {
     "data": {
      "text/plain": [
       "[1, 3, 5, 3.4, 5, 'joy']"
      ]
     },
     "execution_count": 11,
     "metadata": {},
     "output_type": "execute_result"
    }
   ],
   "source": [
    "l[:]"
   ]
  },
  {
   "cell_type": "code",
   "execution_count": 12,
   "id": "5dfe151f",
   "metadata": {},
   "outputs": [
    {
     "data": {
      "text/plain": [
       "'joy'"
      ]
     },
     "execution_count": 12,
     "metadata": {},
     "output_type": "execute_result"
    }
   ],
   "source": [
    "l[-1]"
   ]
  },
  {
   "cell_type": "code",
   "execution_count": 13,
   "id": "7d26914a",
   "metadata": {},
   "outputs": [
    {
     "data": {
      "text/plain": [
       "['joy', 5, 3.4, 5, 3, 1]"
      ]
     },
     "execution_count": 13,
     "metadata": {},
     "output_type": "execute_result"
    }
   ],
   "source": [
    "l[::-1]"
   ]
  },
  {
   "cell_type": "code",
   "execution_count": 14,
   "id": "7c4d27de",
   "metadata": {},
   "outputs": [
    {
     "data": {
      "text/plain": [
       "[5, 3.4, 5]"
      ]
     },
     "execution_count": 14,
     "metadata": {},
     "output_type": "execute_result"
    }
   ],
   "source": [
    "l[2:5]"
   ]
  },
  {
   "cell_type": "code",
   "execution_count": 17,
   "id": "031bbfc3",
   "metadata": {},
   "outputs": [
    {
     "data": {
      "text/plain": [
       "['joy']"
      ]
     },
     "execution_count": 17,
     "metadata": {},
     "output_type": "execute_result"
    }
   ],
   "source": [
    "l[-1:]"
   ]
  },
  {
   "cell_type": "code",
   "execution_count": 18,
   "id": "c238062d",
   "metadata": {},
   "outputs": [
    {
     "data": {
      "text/plain": [
       "list"
      ]
     },
     "execution_count": 18,
     "metadata": {},
     "output_type": "execute_result"
    }
   ],
   "source": [
    "type(l)"
   ]
  },
  {
   "cell_type": "code",
   "execution_count": 19,
   "id": "728308ab",
   "metadata": {},
   "outputs": [
    {
     "data": {
      "text/plain": [
       "[1, 3, 5, 3.4, 5, 'joy', 'lia']"
      ]
     },
     "execution_count": 19,
     "metadata": {},
     "output_type": "execute_result"
    }
   ],
   "source": [
    "l.append(\"lia\")\n",
    "l"
   ]
  },
  {
   "cell_type": "code",
   "execution_count": 21,
   "id": "7b808f9d",
   "metadata": {},
   "outputs": [
    {
     "data": {
      "text/plain": [
       "[1, 3, 5, 3.4, 5, 'joy', 'lia', 21, 32.43, 21, 32.43]"
      ]
     },
     "execution_count": 21,
     "metadata": {},
     "output_type": "execute_result"
    }
   ],
   "source": [
    "l.extend([21,32.43])\n",
    "l"
   ]
  },
  {
   "cell_type": "code",
   "execution_count": 24,
   "id": "769ccc3d",
   "metadata": {},
   "outputs": [
    {
     "data": {
      "text/plain": [
       "[1, 3, 3.4, 'joy', 'lia', 21, 32.43, 21, 32.43]"
      ]
     },
     "execution_count": 24,
     "metadata": {},
     "output_type": "execute_result"
    }
   ],
   "source": [
    "l.remove(5)\n",
    "l"
   ]
  },
  {
   "cell_type": "code",
   "execution_count": 25,
   "id": "1c2b149d",
   "metadata": {},
   "outputs": [
    {
     "data": {
      "text/plain": [
       "3.4"
      ]
     },
     "execution_count": 25,
     "metadata": {},
     "output_type": "execute_result"
    }
   ],
   "source": [
    "l.pop(2)"
   ]
  },
  {
   "cell_type": "code",
   "execution_count": 26,
   "id": "108f30c3",
   "metadata": {},
   "outputs": [
    {
     "data": {
      "text/plain": [
       "[1, 3, 'joy', 'lia', 21, 32.43, 21, 32.43]"
      ]
     },
     "execution_count": 26,
     "metadata": {},
     "output_type": "execute_result"
    }
   ],
   "source": [
    "l"
   ]
  },
  {
   "cell_type": "code",
   "execution_count": 29,
   "id": "28a0e7ea",
   "metadata": {},
   "outputs": [
    {
     "data": {
      "text/plain": [
       "[1, 3, 'joy', 'lia', 21, 32.43, 21, 32.43, 23, 23]"
      ]
     },
     "execution_count": 29,
     "metadata": {},
     "output_type": "execute_result"
    }
   ],
   "source": [
    "l.append(23)\n",
    "l"
   ]
  },
  {
   "cell_type": "code",
   "execution_count": 31,
   "id": "4fe3ab2d",
   "metadata": {},
   "outputs": [
    {
     "data": {
      "text/plain": [
       "[1, 3, 'joy', 'lia', 21, 32.43, 21, 32.43, 23, 23, 'sana', 67, 'sana', 67]"
      ]
     },
     "execution_count": 31,
     "metadata": {},
     "output_type": "execute_result"
    }
   ],
   "source": [
    "l.extend([\"sana\",67])\n",
    "l"
   ]
  },
  {
   "cell_type": "code",
   "execution_count": 34,
   "id": "b7437304",
   "metadata": {},
   "outputs": [],
   "source": [
    "l.insert(0,12)\n"
   ]
  },
  {
   "cell_type": "code",
   "execution_count": 36,
   "id": "33dd4e6d",
   "metadata": {},
   "outputs": [
    {
     "data": {
      "text/plain": [
       "[12,\n",
       " 12,\n",
       " 12,\n",
       " 1,\n",
       " 3,\n",
       " 'joy',\n",
       " 'lia',\n",
       " 21,\n",
       " 32.43,\n",
       " 21,\n",
       " 32.43,\n",
       " 23,\n",
       " 23,\n",
       " 'sana',\n",
       " 67,\n",
       " 'sana',\n",
       " 67]"
      ]
     },
     "execution_count": 36,
     "metadata": {},
     "output_type": "execute_result"
    }
   ],
   "source": [
    "l"
   ]
  },
  {
   "cell_type": "code",
   "execution_count": 37,
   "id": "3b35b695",
   "metadata": {},
   "outputs": [],
   "source": [
    "l.remove(\"joy\")"
   ]
  },
  {
   "cell_type": "code",
   "execution_count": 38,
   "id": "00731483",
   "metadata": {},
   "outputs": [
    {
     "data": {
      "text/plain": [
       "[12, 12, 12, 1, 3, 'lia', 21, 32.43, 21, 32.43, 23, 23, 'sana', 67, 'sana', 67]"
      ]
     },
     "execution_count": 38,
     "metadata": {},
     "output_type": "execute_result"
    }
   ],
   "source": [
    "l"
   ]
  },
  {
   "cell_type": "code",
   "execution_count": 49,
   "id": "404a442e",
   "metadata": {},
   "outputs": [
    {
     "data": {
      "text/plain": [
       "32.43"
      ]
     },
     "execution_count": 49,
     "metadata": {},
     "output_type": "execute_result"
    }
   ],
   "source": [
    "l.pop(3)\n"
   ]
  },
  {
   "cell_type": "code",
   "execution_count": 43,
   "id": "97d3d044",
   "metadata": {},
   "outputs": [
    {
     "data": {
      "text/plain": [
       "3"
      ]
     },
     "execution_count": 43,
     "metadata": {},
     "output_type": "execute_result"
    }
   ],
   "source": [
    "l.count(12)"
   ]
  },
  {
   "cell_type": "code",
   "execution_count": 46,
   "id": "c4e2a612",
   "metadata": {},
   "outputs": [
    {
     "data": {
      "text/plain": [
       "[12, 12, 12, 'lia', 21, 32.43, 21, 32.43, 23, 23, 'sana', 67, 'sana', 67]"
      ]
     },
     "execution_count": 46,
     "metadata": {},
     "output_type": "execute_result"
    }
   ],
   "source": [
    "l.reverse()\n",
    "l"
   ]
  },
  {
   "cell_type": "code",
   "execution_count": 50,
   "id": "e50d3c75",
   "metadata": {},
   "outputs": [],
   "source": [
    "l.clear()"
   ]
  },
  {
   "cell_type": "code",
   "execution_count": 51,
   "id": "56e28a41",
   "metadata": {},
   "outputs": [
    {
     "data": {
      "text/plain": [
       "[]"
      ]
     },
     "execution_count": 51,
     "metadata": {},
     "output_type": "execute_result"
    }
   ],
   "source": [
    "l"
   ]
  },
  {
   "cell_type": "code",
   "execution_count": 53,
   "id": "0e5ae7b0",
   "metadata": {},
   "outputs": [
    {
     "data": {
      "text/plain": [
       "[12, 43, 12, 43]"
      ]
     },
     "execution_count": 53,
     "metadata": {},
     "output_type": "execute_result"
    }
   ],
   "source": [
    "l.extend([12,43])\n",
    "l"
   ]
  },
  {
   "cell_type": "code",
   "execution_count": 55,
   "id": "03b85b7e",
   "metadata": {},
   "outputs": [
    {
     "data": {
      "text/plain": [
       "[12, 43, 12, 43, 4, 4]"
      ]
     },
     "execution_count": 55,
     "metadata": {},
     "output_type": "execute_result"
    }
   ],
   "source": [
    "l.extend([4])\n",
    "l"
   ]
  },
  {
   "cell_type": "code",
   "execution_count": 59,
   "id": "ad784a5b",
   "metadata": {},
   "outputs": [],
   "source": [
    "l1 = l.copy()"
   ]
  },
  {
   "cell_type": "code",
   "execution_count": 60,
   "id": "66f5b97c",
   "metadata": {},
   "outputs": [
    {
     "data": {
      "text/plain": [
       "[43, 43, 4, 4]"
      ]
     },
     "execution_count": 60,
     "metadata": {},
     "output_type": "execute_result"
    }
   ],
   "source": [
    "l1"
   ]
  },
  {
   "cell_type": "code",
   "execution_count": 61,
   "id": "10aeada8",
   "metadata": {},
   "outputs": [
    {
     "data": {
      "text/plain": [
       "[43, 43, 4, 4]"
      ]
     },
     "execution_count": 61,
     "metadata": {},
     "output_type": "execute_result"
    }
   ],
   "source": [
    "l"
   ]
  },
  {
   "cell_type": "markdown",
   "id": "a31518e0",
   "metadata": {},
   "source": [
    "# set"
   ]
  },
  {
   "cell_type": "code",
   "execution_count": 6,
   "id": "20466600",
   "metadata": {},
   "outputs": [],
   "source": [
    "#set doesn't allow duplication\n",
    "#unordered\n",
    "#{}"
   ]
  },
  {
   "cell_type": "markdown",
   "id": "ebd64367",
   "metadata": {},
   "source": [
    "# Tuple"
   ]
  },
  {
   "cell_type": "code",
   "execution_count": 7,
   "id": "7a4c9a03",
   "metadata": {},
   "outputs": [],
   "source": [
    "#Tuple is unchangeable\n",
    "#ordered\n",
    "#allows duplication\n",
    "#()"
   ]
  },
  {
   "cell_type": "markdown",
   "id": "82b4b270",
   "metadata": {},
   "source": [
    "# Dictionary"
   ]
  },
  {
   "cell_type": "code",
   "execution_count": 8,
   "id": "f6961852",
   "metadata": {},
   "outputs": [],
   "source": [
    "#key value pairs\n",
    "#{}\n",
    "#keys should be unique\n",
    "#dictionary contains elements with two units keys and values. Keys must be unique "
   ]
  },
  {
   "cell_type": "code",
   "execution_count": null,
   "id": "a1c0c5d4",
   "metadata": {},
   "outputs": [],
   "source": []
  }
 ],
 "metadata": {
  "kernelspec": {
   "display_name": "Python 3 (ipykernel)",
   "language": "python",
   "name": "python3"
  },
  "language_info": {
   "codemirror_mode": {
    "name": "ipython",
    "version": 3
   },
   "file_extension": ".py",
   "mimetype": "text/x-python",
   "name": "python",
   "nbconvert_exporter": "python",
   "pygments_lexer": "ipython3",
   "version": "3.9.13"
  }
 },
 "nbformat": 4,
 "nbformat_minor": 5
}
