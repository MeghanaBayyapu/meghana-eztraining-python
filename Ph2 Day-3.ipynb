{
 "cells": [
  {
   "cell_type": "code",
   "execution_count": 1,
   "id": "3750d226",
   "metadata": {},
   "outputs": [],
   "source": [
    "#Creating a LinkedList in ascending order using insertion and deletion|"
   ]
  },
  {
   "cell_type": "code",
   "execution_count": 24,
   "id": "ccf7966f",
   "metadata": {},
   "outputs": [
    {
     "name": "stdout",
     "output_type": "stream",
     "text": [
      "\n",
      "Start 8 -> 10 -> 10 -> 11 -> 12 -> end\n",
      "Start 10 -> 11 -> end\n"
     ]
    }
   ],
   "source": [
    "class Node:\n",
    "    def __init__(self,data):\n",
    "        self.data=data\n",
    "        self.next=None\n",
    "class LinkedList:\n",
    "    def __init__(self):\n",
    "        self.head=None\n",
    "    def printList(self):\n",
    "        temp=self.head\n",
    "        if not temp:\n",
    "            print(\"List is empty\")\n",
    "            return\n",
    "        else:\n",
    "            print(\"Start\",end=' ')\n",
    "        while temp:\n",
    "            print(temp.data,end=\" -> \")\n",
    "            temp=temp.next\n",
    "        print(\"end\")\n",
    "    def insert(self,data):\n",
    "        new_node=Node(data)\n",
    "        \n",
    "        #If the LinkedList is empty\n",
    "        if self.head is None:\n",
    "            self.head=new_node\n",
    "        #If the data is smaller than the head\n",
    "        elif self.head.data>new_node.data:\n",
    "            new_node.next=self.head\n",
    "            self.head=new_node\n",
    "        else:\n",
    "            #Locate the node before the insertion point\n",
    "            current=self.head\n",
    "            while current.next and new_node.data > current.next.data:\n",
    "                current=current.next\n",
    "            #Insertion\n",
    "            new_node.next=current.next\n",
    "            current.next=new_node\n",
    "    def delete(self,key):\n",
    "        #If the list is empty\n",
    "        if self.head is None:\n",
    "            print(\"Deletion error:The list is empty\")\n",
    "            return\n",
    "       #If the key is in head\n",
    "        if self.head.data==key:\n",
    "            self.head=self.head.next\n",
    "            return\n",
    "        #Find the position of the first occurance of\n",
    "        current=self.head\n",
    "        while current:\n",
    "            if current.data==key:\n",
    "                break\n",
    "            previous=current\n",
    "            current=current.next\n",
    "            #If the key was not found\n",
    "        if current is None:\n",
    "                print(\"Deletion error:Key not found.\")\n",
    "        else:\n",
    "                previous.next=current.next\n",
    "#__name in python is a special variable\n",
    "if __name__=='__main__':\n",
    "    #Create an object\n",
    "    LL=LinkedList()\n",
    "    print('')\n",
    "    #Insert some nodes\n",
    "    LL.insert(10)\n",
    "    LL.insert(12)\n",
    "    LL.insert(8)\n",
    "    LL.insert(11)\n",
    "    LL.insert(10)\n",
    "    LL.printList()\n",
    "    LL.delete(12)\n",
    "    LL.delete(8)\n",
    "    LL.delete(10)\n",
    "    LL.printList()\n",
    "    "
   ]
  },
  {
   "cell_type": "code",
   "execution_count": 25,
   "id": "72947b2a",
   "metadata": {},
   "outputs": [],
   "source": [
    " def printing():\n",
    "    print(\"Hi\")"
   ]
  },
  {
   "cell_type": "code",
   "execution_count": 26,
   "id": "a89b65af",
   "metadata": {},
   "outputs": [],
   "source": [
    "import sys"
   ]
  },
  {
   "cell_type": "code",
   "execution_count": 27,
   "id": "a3644d62",
   "metadata": {},
   "outputs": [],
   "source": [
    "sys.path.append('C/Users/HP/Downloads/model.py')"
   ]
  },
  {
   "cell_type": "code",
   "execution_count": 30,
   "id": "7476f46c",
   "metadata": {},
   "outputs": [
    {
     "ename": "ModuleNotFoundError",
     "evalue": "No module named 'model'",
     "output_type": "error",
     "traceback": [
      "\u001b[1;31m---------------------------------------------------------------------------\u001b[0m",
      "\u001b[1;31mModuleNotFoundError\u001b[0m                       Traceback (most recent call last)",
      "\u001b[1;32m~\\AppData\\Local\\Temp\\ipykernel_4496\\1228383326.py\u001b[0m in \u001b[0;36m<module>\u001b[1;34m\u001b[0m\n\u001b[1;32m----> 1\u001b[1;33m \u001b[1;32mfrom\u001b[0m \u001b[0mmodel\u001b[0m \u001b[1;32mimport\u001b[0m \u001b[0mprinting\u001b[0m\u001b[1;33m\u001b[0m\u001b[1;33m\u001b[0m\u001b[0m\n\u001b[0m",
      "\u001b[1;31mModuleNotFoundError\u001b[0m: No module named 'model'"
     ]
    }
   ],
   "source": [
    "from model import printing"
   ]
  },
  {
   "cell_type": "code",
   "execution_count": 29,
   "id": "2635d4a8",
   "metadata": {},
   "outputs": [
    {
     "name": "stdout",
     "output_type": "stream",
     "text": [
      "before function\n",
      "f1\n",
      "f2\n",
      "f3\n",
      "name __main__\n"
     ]
    }
   ],
   "source": [
    "#Lets say you have lot of functions in your project\n",
    "\n",
    "#and give all the functoon calls inside main\n",
    "#then there will be a format\n",
    "#easy to read especially for others who are seeing your program\n",
    "print(\"before function\")\n",
    "def f1():\n",
    "    print(\"f1\")\n",
    "def f2():\n",
    "    print(\"f2\")\n",
    "def f3():\n",
    "    print(\"f3\")\n",
    "if __name__==\"__main__\":\n",
    "    f1()\n",
    "    f2()\n",
    "    f3()\n",
    "print(\"name\",__name__)"
   ]
  },
  {
   "cell_type": "markdown",
   "id": "5150fd6c",
   "metadata": {},
   "source": [
    "# Double Linked List"
   ]
  },
  {
   "cell_type": "code",
   "execution_count": 2,
   "id": "c3b1d34a",
   "metadata": {},
   "outputs": [
    {
     "name": "stdout",
     "output_type": "stream",
     "text": [
      "100 <--> 200 <--> "
     ]
    }
   ],
   "source": [
    "#Double linkedList\n",
    "\n",
    "#Creation\n",
    "\n",
    "class Node:\n",
    "    def __init__(self,data):\n",
    "        self.data=data\n",
    "        self.previous=None\n",
    "        self.next=None\n",
    "class dll:\n",
    "    def __init__(self):\n",
    "        self.head=None\n",
    "    def display(self):\n",
    "        if self.head is None:\n",
    "            print(\"Empty\")\n",
    "        else:\n",
    "            temp=self.head\n",
    "            while temp:\n",
    "                print(temp.data,\"<-->\",end=\" \")\n",
    "                temp=temp.next\n",
    "l=dll()\n",
    "n1=Node(100)\n",
    "l.head=n1\n",
    "n2=Node(200)\n",
    "n2.prev=n1\n",
    "n1.next=n2\n",
    "l.display()"
   ]
  },
  {
   "cell_type": "code",
   "execution_count": 4,
   "id": "bc981662",
   "metadata": {},
   "outputs": [
    {
     "name": "stdout",
     "output_type": "stream",
     "text": [
      "300 <--> 100 <--> 200 <--> "
     ]
    }
   ],
   "source": [
    "#Insertion in beginning Double Linked List\n",
    "\n",
    "class Node:\n",
    "    def __init__(self,data):\n",
    "        self.data=data\n",
    "        self.previous=None\n",
    "        self.next=None\n",
    "class dll:\n",
    "    def __init__(self):\n",
    "        self.head=None\n",
    "    def insert_start(self):\n",
    "        n=Node(300)\n",
    "        temp=self.head\n",
    "        temp.prev=n\n",
    "        n.next=temp\n",
    "        self.head=n\n",
    "    def display(self):\n",
    "        if self.head is None:\n",
    "            print(\"Empty\")\n",
    "        else:\n",
    "            temp=self.head\n",
    "            while temp:\n",
    "                print(temp.data,\"<-->\",end=\" \")\n",
    "                temp=temp.next\n",
    "l=dll()\n",
    "n1=Node(100)\n",
    "l.head=n1\n",
    "n2=Node(200)\n",
    "n2.prev=n1\n",
    "n1.next=n2\n",
    "l.insert_start()\n",
    "l.display()"
   ]
  },
  {
   "cell_type": "code",
   "execution_count": 6,
   "id": "e42ddd28",
   "metadata": {},
   "outputs": [
    {
     "name": "stdout",
     "output_type": "stream",
     "text": [
      "100 <--> 200 <--> 300 <--> "
     ]
    }
   ],
   "source": [
    "#Insertion at end in Double Linked List\n",
    "\n",
    "class Node:\n",
    "    def __init__(self,data):\n",
    "        self.data=data\n",
    "        self.previous=None\n",
    "        self.next=None\n",
    "class dll:\n",
    "    def __init__(self):\n",
    "        self.head=None\n",
    "    def insert_end(self):\n",
    "        n=Node(300)\n",
    "        temp=self.head\n",
    "        while temp.next is not None:\n",
    "               temp=temp.next\n",
    "        temp.next=n\n",
    "        n.prev=temp\n",
    "    def display(self):\n",
    "        if self.head is None:\n",
    "            print(\"Empty\")\n",
    "        else:\n",
    "            temp=self.head\n",
    "            while temp:\n",
    "                print(temp.data,\"<-->\",end=\" \")\n",
    "                temp=temp.next\n",
    "l=dll()\n",
    "n1=Node(100)\n",
    "l.head=n1\n",
    "n2=Node(200)\n",
    "n2.prev=n1\n",
    "n1.next=n2\n",
    "l.insert_end()\n",
    "l.display()"
   ]
  },
  {
   "cell_type": "code",
   "execution_count": 9,
   "id": "28d579f7",
   "metadata": {},
   "outputs": [
    {
     "name": "stdout",
     "output_type": "stream",
     "text": [
      "100 <--> 300 <--> 200 <--> "
     ]
    }
   ],
   "source": [
    "#Insertion at position in Double Linked List\n",
    "\n",
    "class Node:\n",
    "    def __init__(self,data):\n",
    "        self.data=data\n",
    "        self.previous=None\n",
    "        self.next=None\n",
    "class dll:\n",
    "    def __init__(self):\n",
    "        self.head=None\n",
    "    def insert_pos(self,pos):\n",
    "        n=Node(300)\n",
    "        temp=self.head\n",
    "        for i in range(1,pos-1):\n",
    "            temp=temp.next\n",
    "        n.prev=temp\n",
    "        n.next=temp.next\n",
    "        temp.next.prev=n\n",
    "        temp.next=n\n",
    "    def display(self):\n",
    "        if self.head is None:\n",
    "            print(\"Empty\")\n",
    "        else:\n",
    "            temp=self.head\n",
    "            while temp:\n",
    "                print(temp.data,\"<-->\",end=\" \")\n",
    "                temp=temp.next\n",
    "l=dll()\n",
    "n1=Node(100)\n",
    "l.head=n1\n",
    "n2=Node(200)\n",
    "n2.prev=n1\n",
    "n1.next=n2\n",
    "l.insert_pos(2)\n",
    "l.display()"
   ]
  },
  {
   "cell_type": "code",
   "execution_count": 11,
   "id": "0525a3cd",
   "metadata": {},
   "outputs": [
    {
     "name": "stdout",
     "output_type": "stream",
     "text": [
      "200 <--> "
     ]
    }
   ],
   "source": [
    "#Deletion in Linked List\n",
    "\n",
    "#Deletion at beginning \n",
    "\n",
    "class Node:\n",
    "    def __init__(self,data):\n",
    "        self.data=data\n",
    "        self.previous=None\n",
    "        self.next=None\n",
    "class dll:\n",
    "    def __init__(self):\n",
    "        self.head=None\n",
    "    def delete_dll(self):\n",
    "        temp=self.head\n",
    "        self.head=temp.next\n",
    "        temp.next=None\n",
    "    def display(self):\n",
    "        if self.head is None:\n",
    "            print(\"Empty\")\n",
    "        else:\n",
    "            temp=self.head\n",
    "            while temp:\n",
    "                print(temp.data,\"<-->\",end=\" \")\n",
    "                temp=temp.next\n",
    "l=dll()\n",
    "n1=Node(100)\n",
    "l.head=n1\n",
    "n2=Node(200)\n",
    "n2.prev=n1\n",
    "n1.next=n2\n",
    "l.delete_dll()\n",
    "l.display()"
   ]
  },
  {
   "cell_type": "code",
   "execution_count": 12,
   "id": "3c3f0b15",
   "metadata": {},
   "outputs": [
    {
     "name": "stdout",
     "output_type": "stream",
     "text": [
      "100 <--> "
     ]
    }
   ],
   "source": [
    "#Deletion at the end\n",
    "\n",
    "class Node:\n",
    "    def __init__(self,data):\n",
    "        self.data=data\n",
    "        self.previous=None\n",
    "        self.next=None\n",
    "class dll:\n",
    "    def __init__(self):\n",
    "        self.head=None\n",
    "    def delete_end(self):\n",
    "        temp=self.head.next\n",
    "        prev=self.head\n",
    "        while temp.next is not None:\n",
    "            tem=temp.next\n",
    "            prev=prev.next\n",
    "        prev.next=None\n",
    "    def display(self):\n",
    "        if self.head is None:\n",
    "            print(\"Empty\")\n",
    "        else:\n",
    "            temp=self.head\n",
    "            while temp:\n",
    "                print(temp.data,\"<-->\",end=\" \")\n",
    "                temp=temp.next\n",
    "l=dll()\n",
    "n1=Node(100)\n",
    "l.head=n1\n",
    "n2=Node(200)\n",
    "n2.prev=n1\n",
    "n1.next=n2\n",
    "l.delete_end()\n",
    "l.display()"
   ]
  },
  {
   "cell_type": "code",
   "execution_count": 29,
   "id": "1a650231",
   "metadata": {},
   "outputs": [
    {
     "name": "stdout",
     "output_type": "stream",
     "text": [
      "100 <--> 300 <--> "
     ]
    }
   ],
   "source": [
    "#Deletion at Required position\n",
    "\n",
    "class Node:\n",
    "    def __init__(self,data):\n",
    "        self.data=data\n",
    "        self.previous=None\n",
    "        self.next=None\n",
    "class dll:\n",
    "    def __init__(self):\n",
    "        self.head=None\n",
    "    def delete_pos(self,pos):\n",
    "        temp=self.head.next\n",
    "        prev=self.head\n",
    "        for i in range(1,pos-1):\n",
    "            temp=temp.next\n",
    "            prev=prev.next\n",
    "        prev.next=temp.next\n",
    "        temp.next=None\n",
    "    def display(self):\n",
    "        if self.head is None:\n",
    "            print(\"Empty\")\n",
    "        else:\n",
    "            temp=self.head\n",
    "            while temp:\n",
    "                print(temp.data,\"<-->\",end=\" \")\n",
    "                temp=temp.next\n",
    "l=dll()\n",
    "n1=Node(100)\n",
    "l.head=n1\n",
    "n2=Node(200)\n",
    "n2.prev=n1\n",
    "n1.next=n2\n",
    "n3=Node(300)\n",
    "n3.prev=n2\n",
    "n2.next=n3\n",
    "l.delete_pos(2)\n",
    "l.display()"
   ]
  },
  {
   "cell_type": "markdown",
   "id": "07eeb544",
   "metadata": {},
   "source": [
    "# Circular Linked List"
   ]
  },
  {
   "cell_type": "code",
   "execution_count": 41,
   "id": "0aaaabcf",
   "metadata": {},
   "outputs": [
    {
     "name": "stdout",
     "output_type": "stream",
     "text": [
      "Nodes of the circular linked list:\n",
      "S -->\n",
      "M -->\n",
      "I -->\n",
      "L -->\n",
      "E -->\n"
     ]
    }
   ],
   "source": [
    "class Node:\n",
    "    def __init__(self,data):\n",
    "        self.data=data\n",
    "        self.next=None\n",
    "class CreateList:\n",
    "    def __init__(self):\n",
    "        self.head=Node(None)\n",
    "        self.tail=Node(None)\n",
    "        self.head.next=self.tail\n",
    "        self.tail.next=self.head\n",
    "        #Adding node at end of LL\n",
    "    def add(self,data):\n",
    "        newNode=Node(data)\n",
    "        #Is Empty?\n",
    "        if self.head.data is None:\n",
    "            self.head=newNode\n",
    "            self.tail=newNode\n",
    "            newNode.next=self.head\n",
    "        else:\n",
    "            self.tail.next=newNode\n",
    "            self.tail=newNode\n",
    "            #It is CLL so tail will point to head\n",
    "            self.tail.next=self.head\n",
    "    def display(self):\n",
    "            current=self.head\n",
    "            if self.head is None:\n",
    "                print(\"List is empty\")\n",
    "                return\n",
    "            else:\n",
    "                print(\"Nodes of the circular linked list:\")\n",
    "                print(current.data,\"-->\")\n",
    "                while(current.next!=self.head):\n",
    "                    current=current.next\n",
    "                    print(current.data,\"-->\")\n",
    "class CircularLinkedList(): \n",
    "    c1=CreateList()\n",
    "    c1.add(\"S\")\n",
    "    c1.add(\"M\")\n",
    "    c1.add(\"I\")\n",
    "    c1.add(\"L\")\n",
    "    c1.add(\"E\")\n",
    "    c1.display()\n",
    "   "
   ]
  },
  {
   "cell_type": "code",
   "execution_count": null,
   "id": "b52dc983",
   "metadata": {},
   "outputs": [],
   "source": []
  }
 ],
 "metadata": {
  "kernelspec": {
   "display_name": "Python 3 (ipykernel)",
   "language": "python",
   "name": "python3"
  },
  "language_info": {
   "codemirror_mode": {
    "name": "ipython",
    "version": 3
   },
   "file_extension": ".py",
   "mimetype": "text/x-python",
   "name": "python",
   "nbconvert_exporter": "python",
   "pygments_lexer": "ipython3",
   "version": "3.9.13"
  }
 },
 "nbformat": 4,
 "nbformat_minor": 5
}
