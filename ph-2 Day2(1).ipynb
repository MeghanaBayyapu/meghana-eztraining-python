{
 "cells": [
  {
   "cell_type": "code",
   "execution_count": 1,
   "id": "9cceef0a",
   "metadata": {},
   "outputs": [],
   "source": [
    "#Happy Number"
   ]
  },
  {
   "cell_type": "code",
   "execution_count": 2,
   "id": "13747778",
   "metadata": {},
   "outputs": [
    {
     "name": "stdout",
     "output_type": "stream",
     "text": [
      "Enter the number7\n",
      "Happy number\n"
     ]
    }
   ],
   "source": [
    "def happy(n):\n",
    "    s=r=0\n",
    "    while(n>=0):\n",
    "        for i in range(0,len(str(n))+1):\n",
    "            r=n%10\n",
    "            s=s+r**2\n",
    "            n=n//10\n",
    "        return s\n",
    "n=int(input(\"Enter the number\"))\n",
    "res=n\n",
    "while(res!=1 and res!=4):\n",
    "    res=happy(res)\n",
    "if res==1:\n",
    "    print(\"Happy number\")\n",
    "else:\n",
    "    print(\"Not a happy number\")\n",
    "        "
   ]
  },
  {
   "cell_type": "code",
   "execution_count": 4,
   "id": "aedb37d0",
   "metadata": {},
   "outputs": [
    {
     "name": "stdout",
     "output_type": "stream",
     "text": [
      "10\n",
      "Encap function-accessing protected\n",
      "20\n",
      "20\n"
     ]
    }
   ],
   "source": [
    "#Encapsulation\n",
    "\n",
    "#Protected:\n",
    "\n",
    "class encap:\n",
    "    _a=10\n",
    "    c=20\n",
    "    def encapfunction(self):\n",
    "        _b=200\n",
    "        print(\"Encap function-accessing protected\")\n",
    "        print(self._a+10)\n",
    "obj=encap()\n",
    "print(obj._a)\n",
    "obj.encapfunction()\n",
    "print(obj.c)"
   ]
  },
  {
   "cell_type": "code",
   "execution_count": 5,
   "id": "dd01fe33",
   "metadata": {},
   "outputs": [
    {
     "name": "stdout",
     "output_type": "stream",
     "text": [
      "10\n",
      "Encap function\n",
      "10\n"
     ]
    },
    {
     "ename": "AttributeError",
     "evalue": "'encap' object has no attribute '__a'",
     "output_type": "error",
     "traceback": [
      "\u001b[1;31m---------------------------------------------------------------------------\u001b[0m",
      "\u001b[1;31mAttributeError\u001b[0m                            Traceback (most recent call last)",
      "\u001b[1;32m~\\AppData\\Local\\Temp\\ipykernel_4528\\2720158811.py\u001b[0m in \u001b[0;36m<module>\u001b[1;34m\u001b[0m\n\u001b[0;32m      9\u001b[0m \u001b[0mobj\u001b[0m\u001b[1;33m=\u001b[0m\u001b[0mencap\u001b[0m\u001b[1;33m(\u001b[0m\u001b[1;33m)\u001b[0m\u001b[1;33m\u001b[0m\u001b[1;33m\u001b[0m\u001b[0m\n\u001b[0;32m     10\u001b[0m \u001b[0mobj\u001b[0m\u001b[1;33m.\u001b[0m\u001b[0mencapfunction\u001b[0m\u001b[1;33m(\u001b[0m\u001b[1;33m)\u001b[0m\u001b[1;33m\u001b[0m\u001b[1;33m\u001b[0m\u001b[0m\n\u001b[1;32m---> 11\u001b[1;33m \u001b[0mprint\u001b[0m\u001b[1;33m(\u001b[0m\u001b[0mobj\u001b[0m\u001b[1;33m.\u001b[0m\u001b[0m__a\u001b[0m\u001b[1;33m)\u001b[0m\u001b[1;31m#will throw error because a is a private and cannot be\u001b[0m\u001b[1;33m\u001b[0m\u001b[1;33m\u001b[0m\u001b[0m\n\u001b[0m\u001b[0;32m     12\u001b[0m \u001b[1;31m#accessed outside the class\u001b[0m\u001b[1;33m\u001b[0m\u001b[1;33m\u001b[0m\u001b[0m\n",
      "\u001b[1;31mAttributeError\u001b[0m: 'encap' object has no attribute '__a'"
     ]
    }
   ],
   "source": [
    "#private\n",
    "\n",
    "class encap:\n",
    "    __a=10\n",
    "    print(__a)\n",
    "    def encapfunction(self):\n",
    "        print(\"Encap function\")\n",
    "        print(self.__a)\n",
    "obj=encap()\n",
    "obj.encapfunction()\n",
    "print(obj.__a)#will throw error because a is a private and cannot be \n",
    "#accessed outside the class"
   ]
  },
  {
   "cell_type": "code",
   "execution_count": 6,
   "id": "969b342e",
   "metadata": {},
   "outputs": [
    {
     "name": "stdout",
     "output_type": "stream",
     "text": [
      "10\n",
      "Encap function\n",
      "10\n",
      "10\n"
     ]
    }
   ],
   "source": [
    "#Public\n",
    "\n",
    "class encap:\n",
    "    a=10\n",
    "    print(a)\n",
    "    def encapfunction(self):\n",
    "        print(\"Encap function\")\n",
    "        print(self.a)\n",
    "obj=encap()\n",
    "obj.encapfunction()\n",
    "print(obj.a)"
   ]
  },
  {
   "cell_type": "markdown",
   "id": "8e806f25",
   "metadata": {},
   "source": [
    "# Polymorphism"
   ]
  },
  {
   "cell_type": "code",
   "execution_count": 7,
   "id": "8757e500",
   "metadata": {},
   "outputs": [
    {
     "name": "stdout",
     "output_type": "stream",
     "text": [
      "Without arguments\n",
      "None None\n",
      "With all arguments\n",
      "20 30\n",
      "With one argument\n",
      "10 None\n",
      "\n",
      "\n",
      "Vijayawada placename is KLU\n",
      "Yes-Vijayawada\n",
      "3rd year\n",
      "\n",
      "\n",
      "Hyderabad placename is HYD-KLU\n",
      "Yes-HYD\n",
      "3rd year-hyd\n",
      "\n",
      "\n"
     ]
    }
   ],
   "source": [
    "#One item or same item used for different purpose.\n",
    "\n",
    "#TYPES:\n",
    "#1.Overloading\n",
    "    #a.Operator overloading\n",
    "    #b.Method overloading\n",
    "#2.Over Riding\n",
    "\n",
    "\n",
    "#1.a.Operator overloading:A single operator is used different purposes.\n",
    "    #ex:'+'operator is used for both adding and concatenating\n",
    "    \n",
    "#1.b.Method overloading:\n",
    "class moverload():\n",
    "    def display(self,a=None,b=None):\n",
    "        print(a,b)\n",
    "obj=moverload()\n",
    "print(\"Without arguments\")\n",
    "obj.display()\n",
    "print(\"With all arguments\")\n",
    "obj.display(20,30)\n",
    "print(\"With one argument\") \n",
    "obj.display(10)\n",
    "print(\"\\n\")\n",
    "\n",
    "#2.Over Riding:If a method is defective or cannot be used inside derived class it will take it \n",
    "#from its base calss or parents class.\n",
    "\n",
    "\n",
    "class vijayawada():\n",
    "    def placename(self):\n",
    "        print(\"Vijayawada placename is KLU\")\n",
    "    def student(self):\n",
    "        print(\"Yes-Vijayawada\")\n",
    "    def which_year(self):\n",
    "        print(\"3rd year\")\n",
    "        print(\"\\n\")\n",
    "class hyd():\n",
    "    def placename(self):\n",
    "        print(\"Hyderabad placename is HYD-KLU\")\n",
    "    def student(self):\n",
    "        print(\"Yes-HYD\")\n",
    "    def which_year(self):\n",
    "        print(\"3rd year-hyd\")\n",
    "        print(\"\\n\")\n",
    "obj_vij=vijayawada()\n",
    "obj_hyd=hyd()\n",
    "for details in (obj_vij,obj_hyd):\n",
    "    details.placename()\n",
    "    details.student()\n",
    "    details.which_year()"
   ]
  },
  {
   "cell_type": "code",
   "execution_count": null,
   "id": "72631153",
   "metadata": {},
   "outputs": [],
   "source": []
  }
 ],
 "metadata": {
  "kernelspec": {
   "display_name": "Python 3 (ipykernel)",
   "language": "python",
   "name": "python3"
  },
  "language_info": {
   "codemirror_mode": {
    "name": "ipython",
    "version": 3
   },
   "file_extension": ".py",
   "mimetype": "text/x-python",
   "name": "python",
   "nbconvert_exporter": "python",
   "pygments_lexer": "ipython3",
   "version": "3.9.13"
  }
 },
 "nbformat": 4,
 "nbformat_minor": 5
}
