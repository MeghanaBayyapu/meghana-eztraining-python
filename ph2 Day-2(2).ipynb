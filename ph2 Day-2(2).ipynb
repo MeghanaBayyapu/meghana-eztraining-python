{
 "cells": [
  {
   "cell_type": "markdown",
   "id": "effbf88d",
   "metadata": {},
   "source": [
    "# Data Structures"
   ]
  },
  {
   "cell_type": "code",
   "execution_count": 1,
   "id": "80b4de7c",
   "metadata": {},
   "outputs": [],
   "source": [
    "#Helps to write effecient pograms\n",
    "#Datastructures:1.primitive 2.Non-primitive\n",
    "\n",
    "#Non-Primitive:\n",
    "#Types:\n",
    "#1.LINEAR   :Array/Linkedlist/Stack/Queue/Matrix\n",
    "#2.NON-LINER:BinaryTree/Heap/HashTable/Graph\n",
    "\n",
    "#Linear    : Sorting data sequentially\n",
    "#NON-LINEAR: No sequential stylerequired\n",
    "\n",
    "#LINEAR:\n",
    "#1.Static:Array\n",
    "#2.Dynamic:List  "
   ]
  },
  {
   "cell_type": "code",
   "execution_count": 2,
   "id": "36de8911",
   "metadata": {},
   "outputs": [],
   "source": [
    "#LinkedList:\n",
    "#Eg:Train   \n",
    "#As the name says list of items which are linked with one another is called as LinkedList.\n",
    "#Types:\n",
    "#1.Single LL\n",
    "#2.Double LL\n",
    "#3.Circular LL"
   ]
  },
  {
   "cell_type": "code",
   "execution_count": 3,
   "id": "2063171a",
   "metadata": {},
   "outputs": [],
   "source": [
    "#Creating LinkedList:\n",
    "\n",
    "#1.Create the node\n",
    "#2.Partition the node with two segments Data and None\n",
    "#3.Add value into the blank node\n",
    "#4.Mark the node ad head\n",
    "#5.Create the next node by following the above steps\n",
    "#6.Establish link between first node and the second node\n",
    "\n",
    "#Displaying the LinkedList:\n",
    "#Traversing is required for the first node till tail node in order to display existing LinkedList."
   ]
  },
  {
   "cell_type": "code",
   "execution_count": 5,
   "id": "f13e9b24",
   "metadata": {},
   "outputs": [
    {
     "name": "stdout",
     "output_type": "stream",
     "text": [
      "10 -> 20 -> 30 -> "
     ]
    }
   ],
   "source": [
    "#CREATING NODE-Declaration and Definition:\n",
    "\n",
    "class node:\n",
    "    def __init__(self,data):\n",
    "        self.data=data\n",
    "        self.next=None\n",
    "class singlelinkedlist:\n",
    "    def __init__(self):\n",
    "        self.head=None\n",
    "    def display(self):\n",
    "        if self.head is None:\n",
    "            print(\"Linkedlist is empty\")\n",
    "        else:\n",
    "            temp=self.head#temp=first node\n",
    "            while temp:\n",
    "                print(temp.data,\"->\",end=\" \") #temp data is the first node's data\n",
    "                temp=temp.next\n",
    "obj=singlelinkedlist()\n",
    "n=node(10)\n",
    "obj.head=n\n",
    "n1=node(20)\n",
    "obj.head.next=n1\n",
    "n2=node(30)\n",
    "n1.next=n2\n",
    "obj.display()"
   ]
  },
  {
   "cell_type": "code",
   "execution_count": 6,
   "id": "8daed1ea",
   "metadata": {},
   "outputs": [
    {
     "name": "stdout",
     "output_type": "stream",
     "text": [
      "W -> I -> N -> N -> E -> R -> "
     ]
    }
   ],
   "source": [
    "#Single Linked list\n",
    "class node:\n",
    "    def __init__(self,data):\n",
    "        self.data=data\n",
    "        self.next=None\n",
    "class singlelinkedlist:\n",
    "    def __init__(self):\n",
    "        self.head=None\n",
    "    def display(self):\n",
    "        if self.head is None:\n",
    "            print(\"Linkedlist is empty \")\n",
    "        else:\n",
    "            temp=self.head#temp=first node\n",
    "            while temp:\n",
    "                print(temp.data,\"->\",end=\" \") #temp data is the first node's data\n",
    "                temp=temp.next\n",
    "obj=singlelinkedlist()\n",
    "n=node(\"W\")\n",
    "obj.head=n\n",
    "n1=node(\"I\")\n",
    "obj.head.next=n1\n",
    "n2=node(\"N\")\n",
    "n1.next=n2\n",
    "n3=node(\"N\")\n",
    "n2.next=n3\n",
    "n4=node(\"E\")\n",
    "n3.next=n4\n",
    "n5=node(\"R\")\n",
    "n4.next=n5\n",
    "obj.display()"
   ]
  },
  {
   "cell_type": "code",
   "execution_count": 7,
   "id": "47dd433b",
   "metadata": {},
   "outputs": [
    {
     "name": "stdout",
     "output_type": "stream",
     "text": [
      "Before inserting 100\n",
      "10 -> 20 -> 30 -> 40 -> 50 -> \n",
      "After inserting 100\n",
      "100 -> 10 -> 20 -> 30 -> 40 -> 50 -> \n",
      "Before inserting 555\n",
      "100 -> 10 -> 20 -> 30 -> 40 -> 50 -> \n",
      "After inserting 555\n",
      "555 -> 100 -> 10 -> 20 -> 30 -> 40 -> 50 -> "
     ]
    }
   ],
   "source": [
    "#Operations in Linked List\n",
    "#1.Insert:\n",
    "         #a.Beginning\n",
    "         #b.Last\n",
    "         #c.Position\n",
    "#2.Delete\n",
    "#3.Search\n",
    "\n",
    "\n",
    "#Insert\n",
    "#Beginning\n",
    "class node:\n",
    "    def __init__(self,data):\n",
    "        self.data=data\n",
    "        self.next=None\n",
    "        \n",
    "class singlelinkedlist:\n",
    "    def __init__(self):\n",
    "        self.head=None\n",
    "        \n",
    "    def insert_beginning(self,data):\n",
    "        nb=node(data)\n",
    "        nb.next=self.head\n",
    "        self.head=nb\n",
    "        \n",
    "    def display(self):\n",
    "        if self.head is None:\n",
    "            print(\"Linked list is empty\")\n",
    "        else:\n",
    "            temp=self.head#temp=first node\n",
    "            while temp:\n",
    "                print(temp.data,\"->\",end=\" \") #temp data is the first node's data\n",
    "                temp=temp.next\n",
    "obj=singlelinkedlist()\n",
    "n=node(10)\n",
    "obj.head=n\n",
    "n1=node(20)\n",
    "obj.head.next=n1\n",
    "n2=node(30)\n",
    "n1.next=n2\n",
    "n3=node(40)\n",
    "n2.next=n3\n",
    "n4=node(50)\n",
    "n3.next=n4\n",
    "print(\"Before inserting 100\")\n",
    "obj.display()\n",
    "print(\"\")\n",
    "print(\"After inserting 100\")\n",
    "obj.insert_beginning(100)\n",
    "obj.display()\n",
    "print(\"\")\n",
    "print(\"Before inserting 555\")\n",
    "obj.display()\n",
    "print(\"\")\n",
    "print(\"After inserting 555\")\n",
    "obj.insert_beginning(555)\n",
    "obj.display()"
   ]
  },
  {
   "cell_type": "code",
   "execution_count": 8,
   "id": "676b3f6c",
   "metadata": {},
   "outputs": [
    {
     "name": "stdout",
     "output_type": "stream",
     "text": [
      "10 -> 20 -> 30 -> 40 -> 50 -> 11111 -> "
     ]
    }
   ],
   "source": [
    "#End\n",
    "class singlelinkedlist:\n",
    "    def __init__(self):\n",
    "        self.head=None\n",
    "        \n",
    "    def insert_end(self,data):\n",
    "        ne=node(data)\n",
    "        temp=self.head\n",
    "        while temp.next:\n",
    "            temp=temp.next\n",
    "        temp.next=ne\n",
    "        \n",
    "    def display(self):\n",
    "        if self.head is None:\n",
    "            print(\"Linked list is empty\")\n",
    "        else:\n",
    "            temp=self.head#temp=first node\n",
    "            while temp:\n",
    "                print(temp.data,\"->\",end=\" \") #temp data is the first node's data\n",
    "                temp=temp.next\n",
    "obj=singlelinkedlist()\n",
    "n=node(10)\n",
    "obj.head=n\n",
    "n1=node(20)\n",
    "obj.head.next=n1\n",
    "n2=node(30)\n",
    "n1.next=n2\n",
    "n3=node(40)\n",
    "n2.next=n3\n",
    "n4=node(50)\n",
    "n3.next=n4\n",
    "obj.insert_end(11111)\n",
    "obj.display()\n",
    "            "
   ]
  },
  {
   "cell_type": "code",
   "execution_count": 9,
   "id": "c1009ff4",
   "metadata": {},
   "outputs": [
    {
     "ename": "SyntaxError",
     "evalue": "invalid syntax (2365586644.py, line 8)",
     "output_type": "error",
     "traceback": [
      "\u001b[1;36m  File \u001b[1;32m\"C:\\Users\\HP\\AppData\\Local\\Temp\\ipykernel_8788\\2365586644.py\"\u001b[1;36m, line \u001b[1;32m8\u001b[0m\n\u001b[1;33m    for i in range(pos-1)\u001b[0m\n\u001b[1;37m                         ^\u001b[0m\n\u001b[1;31mSyntaxError\u001b[0m\u001b[1;31m:\u001b[0m invalid syntax\n"
     ]
    }
   ],
   "source": [
    "#position\n",
    "class singlelinkedlist:\n",
    "    def __init__(self):\n",
    "        self.head=None\n",
    "        \n",
    "    def insert_position(self,pos,data):\n",
    "        np=node(data)\n",
    "        for i in range(pos-1)\n",
    "        temp=self.head\n",
    "        while temp.next:\n",
    "            temp=temp.next\n",
    "        temp.next=ne\n",
    "        \n",
    "    def display(self):\n",
    "        if self.head is None:\n",
    "            print(\"Linked list is empty\")\n",
    "        else:\n",
    "            temp=self.head#temp=first node\n",
    "            while temp:\n",
    "                print(temp.data,\"->\",end=\" \") #temp data is the first node's data\n",
    "                temp=temp.next\n",
    "obj=singlelinkedlist()\n",
    "n=node(10)\n",
    "obj.head=n\n",
    "n1=node(20)\n",
    "obj.head.next=n1\n",
    "n2=node(30)\n",
    "n1.next=n2\n",
    "n3=node(40)\n",
    "n2.next=n3\n",
    "n4=node(50)\n",
    "n3.next=n4\n",
    "obj.insert_end(11111)\n",
    "obj.display()\n",
    "            "
   ]
  },
  {
   "cell_type": "code",
   "execution_count": null,
   "id": "2e3aa412",
   "metadata": {},
   "outputs": [],
   "source": [
    "class Node:\n",
    "    def __init__(self,data):\n",
    "        self.data=data\n",
    "        self.next=None\n",
    "class LinkedList:\n",
    "    def __init__(self):\n",
    "        self.head=None\n",
    "        self.last_node=None\n",
    "    def append(self,data):\n",
    "        if self.last_node is None:\n",
    "            self.head=Node(data)\n",
    "            self.last_node=self.head\n",
    "        else:\n",
    "            self.last_node.next=Node(data)\n",
    "            self.last_node=self.last_node.next\n",
    "        def display(self):\n",
    "            current=self.head\n",
    "            while current is not None:\n",
    "                print(current.data,end=' ')\n",
    "                current=current.next\n",
    "a_list=LinkedList()\n",
    "n=int(input(How many elements would you like to enter))\n",
    "for i in range(n):\n",
    "    data=int(input(\"Enter data item:\"))\n",
    "    a_list"
   ]
  }
 ],
 "metadata": {
  "kernelspec": {
   "display_name": "Python 3 (ipykernel)",
   "language": "python",
   "name": "python3"
  },
  "language_info": {
   "codemirror_mode": {
    "name": "ipython",
    "version": 3
   },
   "file_extension": ".py",
   "mimetype": "text/x-python",
   "name": "python",
   "nbconvert_exporter": "python",
   "pygments_lexer": "ipython3",
   "version": "3.9.13"
  }
 },
 "nbformat": 4,
 "nbformat_minor": 5
}
