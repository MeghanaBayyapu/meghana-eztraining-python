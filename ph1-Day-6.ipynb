{
 "cells": [
  {
   "cell_type": "markdown",
   "id": "cd13ee41",
   "metadata": {},
   "source": [
    "# Exception handling"
   ]
  },
  {
   "cell_type": "code",
   "execution_count": null,
   "id": "88c3ee97",
   "metadata": {},
   "outputs": [],
   "source": [
    "#when there is exception the developer doesnot want intereption or disturbance in the prg flow\n",
    "#to achieve this we are using excpetion handling "
   ]
  },
  {
   "cell_type": "code",
   "execution_count": 1,
   "id": "eed6f613",
   "metadata": {},
   "outputs": [
    {
     "name": "stdout",
     "output_type": "stream",
     "text": [
      "can't be divide by zero\n",
      "Bye\n"
     ]
    }
   ],
   "source": [
    "a = 10\n",
    "b = 0\n",
    "try:\n",
    "    print(a/b)\n",
    "except Exception as e:\n",
    "    print(\"can't be divide by zero\")\n",
    "print(\"Bye\")"
   ]
  },
  {
   "cell_type": "code",
   "execution_count": null,
   "id": "8a29e5c8",
   "metadata": {},
   "outputs": [],
   "source": [
    "#prg 2 "
   ]
  },
  {
   "cell_type": "code",
   "execution_count": 3,
   "id": "b20f0e36",
   "metadata": {},
   "outputs": [
    {
     "name": "stdout",
     "output_type": "stream",
     "text": [
      "Enter a number: 4\n",
      "Enter a number: 0\n",
      "can't be divided by zero\n",
      "This block is always executed\n"
     ]
    }
   ],
   "source": [
    "a = int(input(\"Enter a number: \"))\n",
    "b = int(input(\"Enter a number: \"))\n",
    "try:\n",
    "    print(a/b)\n",
    "except ZeroDivisionError:\n",
    "    print(\"can't be divided by zero\")\n",
    "finally:\n",
    "    print(\"This block is always executed\")"
   ]
  },
  {
   "cell_type": "code",
   "execution_count": 13,
   "id": "012009b2",
   "metadata": {},
   "outputs": [
    {
     "name": "stdout",
     "output_type": "stream",
     "text": [
      "Enter a number: 11\n",
      "0.9090909090909091\n",
      "this block is always executed\n"
     ]
    }
   ],
   "source": [
    "a = 10\n",
    "try:\n",
    "    b = int(input(\"Enter a number: \"))\n",
    "    print(a/b)\n",
    "except ZeroDivisionError as e:\n",
    "    print(\"can't be divided\",e)\n",
    "except ValueError as e:\n",
    "    print(\"Invalid output\",e)\n",
    "except Exception as e:\n",
    "    print(\"other error\",e)\n",
    "finally:\n",
    "    print(\"this block is always executed\")"
   ]
  },
  {
   "cell_type": "code",
   "execution_count": 11,
   "id": "a63697c8",
   "metadata": {},
   "outputs": [
    {
     "name": "stdout",
     "output_type": "stream",
     "text": [
      "4\n",
      "Even Number\n"
     ]
    }
   ],
   "source": [
    "a = int(input())\n",
    "if a%2 == 0:\n",
    "    print(\"Even Number\")\n",
    "else:\n",
    "    raise Exception (\"number should be even number\")"
   ]
  },
  {
   "cell_type": "markdown",
   "id": "37df0cfd",
   "metadata": {},
   "source": [
    "# OOPS - Object Oriented Programming Structure"
   ]
  },
  {
   "cell_type": "markdown",
   "id": "34665f14",
   "metadata": {},
   "source": [
    "#Its an efficient concept used in all object oriented programming languages - java. for multiple reasons we use oops concepts for example: code reusability , data security, hiding data.\n",
    "#Class : it's a blue print eg: birds,laptops.\n",
    "#object: it's a thing created based on class.\n",
    "#Note: one class can have multiple objects."
   ]
  },
  {
   "cell_type": "code",
   "execution_count": null,
   "id": "1d3aa422",
   "metadata": {},
   "outputs": [],
   "source": [
    "#examples \n",
    "#Birds - class\n",
    "#parrot,dove,Peacock - object\n",
    "#laptop - class\n",
    "#asus, del,macbook - object."
   ]
  },
  {
   "cell_type": "code",
   "execution_count": null,
   "id": "76ef4973",
   "metadata": {},
   "outputs": [],
   "source": [
    "class com:   #class \n",
    "    def con(self): #method\n",
    "        print(\"Yes\")\n",
    "asus = com()  #asus is an object. we can access methods by using object\n",
    "asus.con()\n",
    "\n",
    "dell = com() #object2\n",
    "dell.con()"
   ]
  },
  {
   "cell_type": "markdown",
   "id": "76cad1c8",
   "metadata": {},
   "source": [
    "# Constructor"
   ]
  },
  {
   "cell_type": "code",
   "execution_count": null,
   "id": "164392f8",
   "metadata": {},
   "outputs": [],
   "source": [
    "class emp:\n",
    "    def __init__(self,name,idno):\n",
    "        self.idno = idno\n",
    "        self.name = name\n",
    "    def display(self):\n",
    "        print(self.idno,self.name)\n",
    "emp1 = emp(\"john\",23)\n",
    "emp2 = emp(\"lia\",12)\n",
    "\n",
    "emp1.display()\n",
    "emp2.display()"
   ]
  },
  {
   "cell_type": "code",
   "execution_count": null,
   "id": "bf6fc310",
   "metadata": {},
   "outputs": [],
   "source": [
    "class computer:\n",
    "    a = 10 \n",
    "    b = 20 \n",
    "    print(\"inside class variable\")\n",
    "    def conf(self):\n",
    "        c = 100 \n",
    "        print(\"Yes\")\n",
    "        print(\"Inside method\")\n",
    "dell= computer()\n",
    "print(dell.a)\n",
    "\n",
    "asus = computer()\n",
    "print(asus.b)\n",
    "asus.conf()"
   ]
  },
  {
   "cell_type": "code",
   "execution_count": null,
   "id": "dabc2adf",
   "metadata": {},
   "outputs": [
    {
     "name": "stdout",
     "output_type": "stream",
     "text": [
      "inside class variable\n",
      "10\n",
      "d:34\n",
      "e:65\n",
      "34\n",
      "65\n",
      "20\n"
     ]
    }
   ],
   "source": [
    "class computer:\n",
    "    a = 10 \n",
    "    b = 20 \n",
    "    print(\"inside class variable\")\n",
    "    def conf(self):\n",
    "        c = 100 \n",
    "        d = int(input(\"d:\"))\n",
    "        e = int(input(\"e:\"))\n",
    "        print(d)\n",
    "        print(e)\n",
    "dell= computer()\n",
    "print(dell.a)\n",
    "dell.conf()\n",
    "\n",
    "asus = computer()\n",
    "print(asus.b)\n",
    "asus.conf()\n"
   ]
  },
  {
   "cell_type": "code",
   "execution_count": null,
   "id": "0eed603a",
   "metadata": {},
   "outputs": [],
   "source": []
  }
 ],
 "metadata": {
  "kernelspec": {
   "display_name": "Python 3 (ipykernel)",
   "language": "python",
   "name": "python3"
  },
  "language_info": {
   "codemirror_mode": {
    "name": "ipython",
    "version": 3
   },
   "file_extension": ".py",
   "mimetype": "text/x-python",
   "name": "python",
   "nbconvert_exporter": "python",
   "pygments_lexer": "ipython3",
   "version": "3.9.13"
  }
 },
 "nbformat": 4,
 "nbformat_minor": 5
}
