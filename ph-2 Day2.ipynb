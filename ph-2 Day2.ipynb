{
 "cells": [
  {
   "cell_type": "code",
   "execution_count": 1,
   "id": "9cceef0a",
   "metadata": {},
   "outputs": [],
   "source": [
    "#Happy Number"
   ]
  },
  {
   "cell_type": "code",
   "execution_count": 2,
   "id": "13747778",
   "metadata": {},
   "outputs": [
    {
     "name": "stdout",
     "output_type": "stream",
     "text": [
      "Enter the number7\n",
      "Happy number\n"
     ]
    }
   ],
   "source": [
    "def happy(n):\n",
    "    s=r=0\n",
    "    while(n>=0):\n",
    "        for i in range(0,len(str(n))+1):\n",
    "            r=n%10\n",
    "            s=s+r**2\n",
    "            n=n//10\n",
    "        return s\n",
    "n=int(input(\"Enter the number\"))\n",
    "res=n\n",
    "while(res!=1 and res!=4):\n",
    "    res=happy(res)\n",
    "if res==1:\n",
    "    print(\"Happy number\")\n",
    "else:\n",
    "    print(\"Not a happy number\")\n",
    "        "
   ]
  },
  {
   "cell_type": "code",
   "execution_count": 4,
   "id": "aedb37d0",
   "metadata": {},
   "outputs": [
    {
     "name": "stdout",
     "output_type": "stream",
     "text": [
      "10\n",
      "Encap function-accessing protected\n",
      "20\n",
      "20\n"
     ]
    }
   ],
   "source": [
    "#Encapsulation\n",
    "\n",
    "#Protected:\n",
    "\n",
    "class encap:\n",
    "    _a=10\n",
    "    c=20\n",
    "    def encapfunction(self):\n",
    "        _b=200\n",
    "        print(\"Encap function-accessing protected\")\n",
    "        print(self._a+10)\n",
    "obj=encap()\n",
    "print(obj._a)\n",
    "obj.encapfunction()\n",
    "print(obj.c)"
   ]
  },
  {
   "cell_type": "code",
   "execution_count": 5,
   "id": "dd01fe33",
   "metadata": {},
   "outputs": [
    {
     "name": "stdout",
     "output_type": "stream",
     "text": [
      "10\n",
      "Encap function\n",
      "10\n"
     ]
    },
    {
     "ename": "AttributeError",
     "evalue": "'encap' object has no attribute '__a'",
     "output_type": "error",
     "traceback": [
      "\u001b[1;31m---------------------------------------------------------------------------\u001b[0m",
      "\u001b[1;31mAttributeError\u001b[0m                            Traceback (most recent call last)",
      "\u001b[1;32m~\\AppData\\Local\\Temp\\ipykernel_4528\\2720158811.py\u001b[0m in \u001b[0;36m<module>\u001b[1;34m\u001b[0m\n\u001b[0;32m      9\u001b[0m \u001b[0mobj\u001b[0m\u001b[1;33m=\u001b[0m\u001b[0mencap\u001b[0m\u001b[1;33m(\u001b[0m\u001b[1;33m)\u001b[0m\u001b[1;33m\u001b[0m\u001b[1;33m\u001b[0m\u001b[0m\n\u001b[0;32m     10\u001b[0m \u001b[0mobj\u001b[0m\u001b[1;33m.\u001b[0m\u001b[0mencapfunction\u001b[0m\u001b[1;33m(\u001b[0m\u001b[1;33m)\u001b[0m\u001b[1;33m\u001b[0m\u001b[1;33m\u001b[0m\u001b[0m\n\u001b[1;32m---> 11\u001b[1;33m \u001b[0mprint\u001b[0m\u001b[1;33m(\u001b[0m\u001b[0mobj\u001b[0m\u001b[1;33m.\u001b[0m\u001b[0m__a\u001b[0m\u001b[1;33m)\u001b[0m\u001b[1;31m#will throw error because a is a private and cannot be\u001b[0m\u001b[1;33m\u001b[0m\u001b[1;33m\u001b[0m\u001b[0m\n\u001b[0m\u001b[0;32m     12\u001b[0m \u001b[1;31m#accessed outside the class\u001b[0m\u001b[1;33m\u001b[0m\u001b[1;33m\u001b[0m\u001b[0m\n",
      "\u001b[1;31mAttributeError\u001b[0m: 'encap' object has no attribute '__a'"
     ]
    }
   ],
   "source": [
    "#private\n",
    "\n",
    "class encap:\n",
    "    __a=10\n",
    "    print(__a)\n",
    "    def encapfunction(self):\n",
    "        print(\"Encap function\")\n",
    "        print(self.__a)\n",
    "obj=encap()\n",
    "obj.encapfunction()\n",
    "print(obj.__a)#will throw error because a is a private and cannot be \n",
    "#accessed outside the class"
   ]
  },
  {
   "cell_type": "code",
   "execution_count": 6,
   "id": "969b342e",
   "metadata": {},
   "outputs": [
    {
     "name": "stdout",
     "output_type": "stream",
     "text": [
      "10\n",
      "Encap function\n",
      "10\n",
      "10\n"
     ]
    }
   ],
   "source": [
    "#Public\n",
    "\n",
    "class encap:\n",
    "    a=10\n",
    "    print(a)\n",
    "    def encapfunction(self):\n",
    "        print(\"Encap function\")\n",
    "        print(self.a)\n",
    "obj=encap()\n",
    "obj.encapfunction()\n",
    "print(obj.a)"
   ]
  },
  {
   "cell_type": "markdown",
   "id": "8e806f25",
   "metadata": {},
   "source": [
    "# Polymorphism"
   ]
  },
  {
   "cell_type": "code",
   "execution_count": 7,
   "id": "8757e500",
   "metadata": {},
   "outputs": [
    {
     "name": "stdout",
     "output_type": "stream",
     "text": [
      "Without arguments\n",
      "None None\n",
      "With all arguments\n",
      "20 30\n",
      "With one argument\n",
      "10 None\n",
      "\n",
      "\n",
      "Vijayawada placename is KLU\n",
      "Yes-Vijayawada\n",
      "3rd year\n",
      "\n",
      "\n",
      "Hyderabad placename is HYD-KLU\n",
      "Yes-HYD\n",
      "3rd year-hyd\n",
      "\n",
      "\n"
     ]
    }
   ],
   "source": [
    "#One item or same item used for different purpose.\n",
    "\n",
    "#TYPES:\n",
    "#1.Overloading\n",
    "    #a.Operator overloading\n",
    "    #b.Method overloading\n",
    "#2.Over Riding\n",
    "\n",
    "\n",
    "#1.a.Operator overloading:A single operator is used different purposes.\n",
    "    #ex:'+'operator is used for both adding and concatenating\n",
    "    \n",
    "#1.b.Method overloading:\n",
    "class moverload():\n",
    "    def display(self,a=None,b=None):\n",
    "        print(a,b)\n",
    "obj=moverload()\n",
    "print(\"Without arguments\")\n",
    "obj.display()\n",
    "print(\"With all arguments\")\n",
    "obj.display(20,30)\n",
    "print(\"With one argument\") \n",
    "obj.display(10)\n",
    "print(\"\\n\")\n",
    "\n",
    "#2.Over Riding:If a method is defective or cannot be used inside derived class it will take it \n",
    "#from its base calss or parents class.\n",
    "\n",
    "\n",
    "class vijayawada():\n",
    "    def placename(self):\n",
    "        print(\"Vijayawada placename is KLU\")\n",
    "    def student(self):\n",
    "        print(\"Yes-Vijayawada\")\n",
    "    def which_year(self):\n",
    "        print(\"3rd year\")\n",
    "        print(\"\\n\")\n",
    "class hyd():\n",
    "    def placename(self):\n",
    "        print(\"Hyderabad placename is HYD-KLU\")\n",
    "    def student(self):\n",
    "        print(\"Yes-HYD\")\n",
    "    def which_year(self):\n",
    "        print(\"3rd year-hyd\")\n",
    "        print(\"\\n\")\n",
    "obj_vij=vijayawada()\n",
    "obj_hyd=hyd()\n",
    "for details in (obj_vij,obj_hyd):\n",
    "    details.placename()\n",
    "    details.student()\n",
    "    details.which_year()"
   ]
  },
  {
   "cell_type": "markdown",
   "id": "5af3e8e8",
   "metadata": {},
   "source": [
    "# Data Structures\n"
   ]
  },
  {
   "cell_type": "code",
   "execution_count": 1,
   "id": "7ee69a5b",
   "metadata": {},
   "outputs": [],
   "source": [
    "#Helps to write effecient pograms\n",
    "#Datastructures:1.primitive 2.Non-primitive\n",
    "\n",
    "#Non-Primitive:\n",
    "#Types:\n",
    "#1.LINEAR   :Array/Linkedlist/Stack/Queue/Matrix\n",
    "#2.NON-LINER:BinaryTree/Heap/HashTable/Graph\n",
    "\n",
    "#Linear    : Sorting data sequentially\n",
    "#NON-LINEAR: No sequential stylerequired\n",
    "\n",
    "#LINEAR:\n",
    "#1.Static:Array\n",
    "#2.Dynamic:List"
   ]
  },
  {
   "cell_type": "code",
   "execution_count": 2,
   "id": "54ff5f2e",
   "metadata": {},
   "outputs": [],
   "source": [
    "#LinkedList:\n",
    "#Eg:Train   \n",
    "#As the name says list of items which are linked with one another is called as LinkedList.\n",
    "#Types:\n",
    "#1.Single LL\n",
    "#2.Double LL\n",
    "#3.Circular LL"
   ]
  },
  {
   "cell_type": "code",
   "execution_count": 3,
   "id": "16d0c93e",
   "metadata": {},
   "outputs": [],
   "source": [
    "#Creating LinkedList:\n",
    "\n",
    "#1.Create the node\n",
    "#2.Partition the node with two segments Data and None\n",
    "#3.Add value into the blank node\n",
    "#4.Mark the node ad head\n",
    "#5.Create the next node by following the above steps\n",
    "#6.Establish link between first node and the second node\n",
    "\n",
    "#Displaying the LinkedList:\n",
    "#Traversing is required for the first node till tail node in order to display existing LinkedList."
   ]
  },
  {
   "cell_type": "code",
   "execution_count": 4,
   "id": "b22db36a",
   "metadata": {},
   "outputs": [
    {
     "name": "stdout",
     "output_type": "stream",
     "text": [
      "10 -> 20 -> 30 -> "
     ]
    }
   ],
   "source": [
    "#CREATING NODE-Declaration and Definition:\n",
    "\n",
    "class node:\n",
    "    def __init__(self,data):\n",
    "        self.data=data\n",
    "        self.next=None\n",
    "class singlelinkedlist:\n",
    "    def __init__(self):\n",
    "        self.head=None\n",
    "    def display(self):\n",
    "        if self.head is None:\n",
    "            print(\"Linkedlist is empty\")\n",
    "        else:\n",
    "            temp=self.head#temp=first node\n",
    "            while temp:\n",
    "                print(temp.data,\"->\",end=\" \") #temp data is the first node's data\n",
    "                temp=temp.next\n",
    "obj=singlelinkedlist()\n",
    "n=node(10)\n",
    "obj.head=n\n",
    "n1=node(20)\n",
    "obj.head.next=n1\n",
    "n2=node(30)\n",
    "n1.next=n2\n",
    "obj.display()"
   ]
  },
  {
   "cell_type": "code",
   "execution_count": 5,
   "id": "f1b15f82",
   "metadata": {},
   "outputs": [
    {
     "name": "stdout",
     "output_type": "stream",
     "text": [
      "W -> I -> N -> N -> E -> R -> "
     ]
    }
   ],
   "source": [
    "#Single Linked list\n",
    "class node:\n",
    "    def __init__(self,data):\n",
    "        self.data=data\n",
    "        self.next=None\n",
    "class singlelinkedlist:\n",
    "    def __init__(self):\n",
    "        self.head=None\n",
    "    def display(self):\n",
    "        if self.head is None:\n",
    "            print(\"Linkedlist is empty \")\n",
    "        else:\n",
    "            temp=self.head#temp=first node\n",
    "            while temp:\n",
    "                print(temp.data,\"->\",end=\" \") #temp data is the first node's data\n",
    "                temp=temp.next\n",
    "obj=singlelinkedlist()\n",
    "n=node(\"W\")\n",
    "obj.head=n\n",
    "n1=node(\"I\")\n",
    "obj.head.next=n1\n",
    "n2=node(\"N\")\n",
    "n1.next=n2\n",
    "n3=node(\"N\")\n",
    "n2.next=n3\n",
    "n4=node(\"E\")\n",
    "n3.next=n4\n",
    "n5=node(\"R\")\n",
    "n4.next=n5\n",
    "obj.display()"
   ]
  },
  {
   "cell_type": "code",
   "execution_count": 6,
   "id": "4183edfe",
   "metadata": {},
   "outputs": [
    {
     "name": "stdout",
     "output_type": "stream",
     "text": [
      "Before inserting 100\n",
      "10 -> 20 -> 30 -> 40 -> 50 -> \n",
      "After inserting 100\n",
      "100 -> 10 -> 20 -> 30 -> 40 -> 50 -> \n",
      "Before inserting 555\n",
      "100 -> 10 -> 20 -> 30 -> 40 -> 50 -> \n",
      "After inserting 555\n",
      "555 -> 100 -> 10 -> 20 -> 30 -> 40 -> 50 -> "
     ]
    }
   ],
   "source": [
    "#Operations in Linked List\n",
    "#1.Insert:\n",
    "         #a.Beginning\n",
    "         #b.Last\n",
    "         #c.Position\n",
    "#2.Delete\n",
    "#3.Search\n",
    "\n",
    "\n",
    "#Insert\n",
    "#Beginning\n",
    "class node:\n",
    "    def __init__(self,data):\n",
    "        self.data=data\n",
    "        self.next=None\n",
    "        \n",
    "class singlelinkedlist:\n",
    "    def __init__(self):\n",
    "        self.head=None\n",
    "        \n",
    "    def insert_beginning(self,data):\n",
    "        nb=node(data)\n",
    "        nb.next=self.head\n",
    "        self.head=nb\n",
    "        \n",
    "    def display(self):\n",
    "        if self.head is None:\n",
    "            print(\"Linked list is empty\")\n",
    "        else:\n",
    "            temp=self.head#temp=first node\n",
    "            while temp:\n",
    "                print(temp.data,\"->\",end=\" \") #temp data is the first node's data\n",
    "                temp=temp.next\n",
    "obj=singlelinkedlist()\n",
    "n=node(10)\n",
    "obj.head=n\n",
    "n1=node(20)\n",
    "obj.head.next=n1\n",
    "n2=node(30)\n",
    "n1.next=n2\n",
    "n3=node(40)\n",
    "n2.next=n3\n",
    "n4=node(50)\n",
    "n3.next=n4\n",
    "print(\"Before inserting 100\")\n",
    "obj.display()\n",
    "print(\"\")\n",
    "print(\"After inserting 100\")\n",
    "obj.insert_beginning(100)\n",
    "obj.display()\n",
    "print(\"\")\n",
    "print(\"Before inserting 555\")\n",
    "obj.display()\n",
    "print(\"\")\n",
    "print(\"After inserting 555\")\n",
    "obj.insert_beginning(555)\n",
    "obj.display()"
   ]
  },
  {
   "cell_type": "code",
   "execution_count": 7,
   "id": "2b750905",
   "metadata": {},
   "outputs": [
    {
     "name": "stdout",
     "output_type": "stream",
     "text": [
      "10 -> 20 -> 30 -> 40 -> 50 -> 11111 -> "
     ]
    }
   ],
   "source": [
    "#End\n",
    "class singlelinkedlist:\n",
    "    def __init__(self):\n",
    "        self.head=None\n",
    "        \n",
    "    def insert_end(self,data):\n",
    "        ne=node(data)\n",
    "        temp=self.head\n",
    "        while temp.next:\n",
    "            temp=temp.next\n",
    "        temp.next=ne\n",
    "        \n",
    "    def display(self):\n",
    "        if self.head is None:\n",
    "            print(\"Linked list is empty\")\n",
    "        else:\n",
    "            temp=self.head#temp=first node\n",
    "            while temp:\n",
    "                print(temp.data,\"->\",end=\" \") #temp data is the first node's data\n",
    "                temp=temp.next\n",
    "obj=singlelinkedlist()\n",
    "n=node(10)\n",
    "obj.head=n\n",
    "n1=node(20)\n",
    "obj.head.next=n1\n",
    "n2=node(30)\n",
    "n1.next=n2\n",
    "n3=node(40)\n",
    "n2.next=n3\n",
    "n4=node(50)\n",
    "n3.next=n4\n",
    "obj.insert_end(11111)\n",
    "obj.display()\n",
    "            "
   ]
  },
  {
   "cell_type": "code",
   "execution_count": 8,
   "id": "2fd98230",
   "metadata": {},
   "outputs": [
    {
     "ename": "SyntaxError",
     "evalue": "invalid syntax (1378710237.py, line 8)",
     "output_type": "error",
     "traceback": [
      "\u001b[1;36m  File \u001b[1;32m\"C:\\Users\\HP\\AppData\\Local\\Temp\\ipykernel_4808\\1378710237.py\"\u001b[1;36m, line \u001b[1;32m8\u001b[0m\n\u001b[1;33m    for i in range(pos-1)\u001b[0m\n\u001b[1;37m                         ^\u001b[0m\n\u001b[1;31mSyntaxError\u001b[0m\u001b[1;31m:\u001b[0m invalid syntax\n"
     ]
    }
   ],
   "source": [
    "#position\n",
    "class singlelinkedlist:\n",
    "    def __init__(self):\n",
    "        self.head=None\n",
    "        \n",
    "    def insert_position(self,pos,data):\n",
    "        np=node(data)\n",
    "        for i in range(pos-1)\n",
    "        temp=self.head\n",
    "        while temp.next:\n",
    "            temp=temp.next\n",
    "        temp.next=ne\n",
    "        \n",
    "    def display(self):\n",
    "        if self.head is None:\n",
    "            print(\"Linked list is empty\")\n",
    "        else:\n",
    "            temp=self.head#temp=first node\n",
    "            while temp:\n",
    "                print(temp.data,\"->\",end=\" \") #temp data is the first node's data\n",
    "                temp=temp.next\n",
    "obj=singlelinkedlist()\n",
    "n=node(10)\n",
    "obj.head=n\n",
    "n1=node(20)\n",
    "obj.head.next=n1\n",
    "n2=node(30)\n",
    "n1.next=n2\n",
    "n3=node(40)\n",
    "n2.next=n3\n",
    "n4=node(50)\n",
    "n3.next=n4\n",
    "obj.insert_end(11111)\n",
    "obj.display()"
   ]
  },
  {
   "cell_type": "code",
   "execution_count": null,
   "id": "c9a00f23",
   "metadata": {},
   "outputs": [],
   "source": [
    "class Node:\n",
    "    def __init__(self,data):\n",
    "        self.data=data\n",
    "        self.next=None\n",
    "class LinkedList:\n",
    "    def __init__(self):\n",
    "        self.head=None\n",
    "        self.last_node=None\n",
    "    def append(self,data):\n",
    "        if self.last_node is None:\n",
    "            self.head=Node(data)\n",
    "            self.last_node=self.head\n",
    "        else:\n",
    "            self.last_node.next=Node(data)\n",
    "            self.last_node=self.last_node.next\n",
    "        def display(self):\n",
    "            current=self.head\n",
    "            while current is not None:\n",
    "                print(current.data,end=' ')\n",
    "                current=current.next\n",
    "a_list=LinkedList()\n",
    "n=int(input(How many elements would you like to enter))\n",
    "for i in range(n):\n",
    "    data=int(input(\"Enter data item:\"))\n",
    "    a_list"
   ]
  }
 ],
 "metadata": {
  "kernelspec": {
   "display_name": "Python 3 (ipykernel)",
   "language": "python",
   "name": "python3"
  },
  "language_info": {
   "codemirror_mode": {
    "name": "ipython",
    "version": 3
   },
   "file_extension": ".py",
   "mimetype": "text/x-python",
   "name": "python",
   "nbconvert_exporter": "python",
   "pygments_lexer": "ipython3",
   "version": "3.9.13"
  }
 },
 "nbformat": 4,
 "nbformat_minor": 5
}
