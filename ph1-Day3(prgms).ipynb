{
 "cells": [
  {
   "cell_type": "markdown",
   "id": "884d586e",
   "metadata": {},
   "source": [
    "#1create a list with 10 items and print the elements one by one "
   ]
  },
  {
   "cell_type": "markdown",
   "id": "feb8b560",
   "metadata": {},
   "source": [
    "#2.create a list with 5 float numbers find and display sum and aveage of the list "
   ]
  },
  {
   "cell_type": "markdown",
   "id": "56ae5c15",
   "metadata": {},
   "source": [
    "#3.after creating a list with 6 elements from the user extract only even numbers and print"
   ]
  },
  {
   "cell_type": "code",
   "execution_count": 18,
   "id": "82bd7f96",
   "metadata": {},
   "outputs": [
    {
     "name": "stdout",
     "output_type": "stream",
     "text": [
      "1\n",
      "4\n",
      "3\n",
      "2\n",
      "5\n",
      "7\n",
      "8\n",
      "8\n",
      "6\n",
      "9\n"
     ]
    }
   ],
   "source": [
    "l = [1,4,3,2,5,7,8,8,6,9]\n",
    "for i in range(len(l)):\n",
    "    print(l[i])"
   ]
  },
  {
   "cell_type": "code",
   "execution_count": 1,
   "id": "60acc80e",
   "metadata": {},
   "outputs": [
    {
     "name": "stdout",
     "output_type": "stream",
     "text": [
      "17.9\n",
      "3.5799999999999996\n"
     ]
    }
   ],
   "source": [
    "l1 = [2.1,6.3,1.4,3.5,4.6]\n",
    "a = len(l1)\n",
    "sum = 0\n",
    "for i in range(a):\n",
    "    sum = sum+l1[i]\n",
    "print(sum)\n",
    "print(sum/a)"
   ]
  },
  {
   "cell_type": "code",
   "execution_count": 5,
   "id": "1f8e0dd1",
   "metadata": {},
   "outputs": [
    {
     "name": "stdout",
     "output_type": "stream",
     "text": [
      "enter number of elements in list: 6\n",
      "3\n",
      "5\n",
      "7\n",
      "9\n",
      "2\n",
      "4\n",
      "[2, 4]\n"
     ]
    }
   ],
   "source": [
    "l1 = []\n",
    "l2 = []\n",
    "n = int(input(\"enter number of elements in list: \"))\n",
    "for i in range(n):\n",
    "    a = int(input())\n",
    "    l1.append(a)\n",
    "for j in l1:\n",
    "    if j%2 == 0:\n",
    "        l2.append(j)\n",
    "print(l2)"
   ]
  },
  {
   "cell_type": "code",
   "execution_count": 8,
   "id": "f49a6c6c",
   "metadata": {},
   "outputs": [
    {
     "name": "stdout",
     "output_type": "stream",
     "text": [
      "2 4 5 6\n",
      "pro: 240\n"
     ]
    }
   ],
   "source": [
    "a = list(map(int,input().split()))\n",
    "sum = 0 \n",
    "pro = 1\n",
    "for i in a:\n",
    "    pro = pro*i\n",
    "    sum = sum+i\n",
    "if (pro<=750):\n",
    "    print(\"pro:\",pro)\n",
    "else:\n",
    "    print(\"sum:\",sum)"
   ]
  },
  {
   "cell_type": "markdown",
   "id": "199e745d",
   "metadata": {},
   "source": [
    "# list Comprehension "
   ]
  },
  {
   "cell_type": "code",
   "execution_count": 11,
   "id": "e862380e",
   "metadata": {},
   "outputs": [
    {
     "name": "stdout",
     "output_type": "stream",
     "text": [
      "['G', 'r', 'e', 'a', 't', ' ', 'A', 'f', 't', 'e', 'r', 'n', 'o', 'o', 'n']\n"
     ]
    }
   ],
   "source": [
    "n = [ele for ele in \"Great Afternoon\"]\n",
    "print(n)"
   ]
  },
  {
   "cell_type": "code",
   "execution_count": 13,
   "id": "7c53defa",
   "metadata": {},
   "outputs": [
    {
     "name": "stdout",
     "output_type": "stream",
     "text": [
      "['joy', 'jack', 'jackson', 'jk']\n"
     ]
    }
   ],
   "source": [
    "l = [\"mina\",\"joy\",\"jack\",\"lia\",\"jackson\",\"jk\"]\n",
    "name = []\n",
    "for i in l:\n",
    "    if \"j\" in i:\n",
    "        name.append(i)\n",
    "print(name)"
   ]
  },
  {
   "cell_type": "code",
   "execution_count": 15,
   "id": "f60b20e6",
   "metadata": {},
   "outputs": [
    {
     "name": "stdout",
     "output_type": "stream",
     "text": [
      "[9, 27, 81, 243, 729, 2187, 6561, 19683, 59049, 177147, 531441, 1594323, 4782969, 14348907, 43046721, 129140163, 387420489, 1162261467]\n"
     ]
    }
   ],
   "source": [
    "l = [3**x for x in range(2,20)]\n",
    "print(l)"
   ]
  },
  {
   "cell_type": "code",
   "execution_count": 16,
   "id": "49d3477c",
   "metadata": {},
   "outputs": [
    {
     "name": "stdout",
     "output_type": "stream",
     "text": [
      "[20, 25, 30, 35, 40, 45, 50, 55, 60, 65, 70, 75, 80, 85, 90, 95]\n"
     ]
    }
   ],
   "source": [
    "l = [x for x in range(20,100,5)]\n",
    "print(l)"
   ]
  },
  {
   "cell_type": "code",
   "execution_count": 17,
   "id": "08eee7e7",
   "metadata": {},
   "outputs": [
    {
     "name": "stdout",
     "output_type": "stream",
     "text": [
      "[20, 25, 30, 35, 40, 45, 50, 55]\n"
     ]
    }
   ],
   "source": [
    "l4 = [x for x in l if (x<60)]\n",
    "print(l4)"
   ]
  },
  {
   "cell_type": "markdown",
   "id": "f9263f95",
   "metadata": {},
   "source": [
    "# Set"
   ]
  },
  {
   "cell_type": "code",
   "execution_count": 21,
   "id": "89d4e672",
   "metadata": {},
   "outputs": [
    {
     "data": {
      "text/plain": [
       "{1, 3, 5, 33}"
      ]
     },
     "execution_count": 21,
     "metadata": {},
     "output_type": "execute_result"
    }
   ],
   "source": [
    "s = {1,3,5,33}\n",
    "s"
   ]
  },
  {
   "cell_type": "code",
   "execution_count": 22,
   "id": "578e0657",
   "metadata": {},
   "outputs": [
    {
     "data": {
      "text/plain": [
       "{1, 3, 5, 33, 44}"
      ]
     },
     "execution_count": 22,
     "metadata": {},
     "output_type": "execute_result"
    }
   ],
   "source": [
    "s.add(44)\n",
    "s"
   ]
  },
  {
   "cell_type": "code",
   "execution_count": 23,
   "id": "d8351f1d",
   "metadata": {},
   "outputs": [
    {
     "data": {
      "text/plain": [
       "{1, 3, 5, 32, 33, 44, 54}"
      ]
     },
     "execution_count": 23,
     "metadata": {},
     "output_type": "execute_result"
    }
   ],
   "source": [
    "s.update([32,54])\n",
    "s"
   ]
  },
  {
   "cell_type": "code",
   "execution_count": 24,
   "id": "77a9a0d5",
   "metadata": {},
   "outputs": [
    {
     "data": {
      "text/plain": [
       "{1, 5, 32, 33, 44, 54}"
      ]
     },
     "execution_count": 24,
     "metadata": {},
     "output_type": "execute_result"
    }
   ],
   "source": [
    "s.discard(3)\n",
    "s"
   ]
  },
  {
   "cell_type": "code",
   "execution_count": 25,
   "id": "414bed88",
   "metadata": {},
   "outputs": [
    {
     "data": {
      "text/plain": [
       "{1, 32, 33, 44, 54}"
      ]
     },
     "execution_count": 25,
     "metadata": {},
     "output_type": "execute_result"
    }
   ],
   "source": [
    "s.remove(5)\n",
    "s"
   ]
  },
  {
   "cell_type": "code",
   "execution_count": 26,
   "id": "b9a3080a",
   "metadata": {},
   "outputs": [],
   "source": [
    "s2 = {43,\"lia\",1,54}"
   ]
  },
  {
   "cell_type": "markdown",
   "id": "4314cdc3",
   "metadata": {},
   "source": [
    "#union"
   ]
  },
  {
   "cell_type": "code",
   "execution_count": 28,
   "id": "2c02308b",
   "metadata": {},
   "outputs": [
    {
     "data": {
      "text/plain": [
       "{1, 32, 33, 43, 44, 54, 'lia'}"
      ]
     },
     "execution_count": 28,
     "metadata": {},
     "output_type": "execute_result"
    }
   ],
   "source": [
    "s.union(s2)"
   ]
  },
  {
   "cell_type": "code",
   "execution_count": 29,
   "id": "93ec4adc",
   "metadata": {},
   "outputs": [
    {
     "data": {
      "text/plain": [
       "{1, 32, 33, 43, 44, 54, 'lia'}"
      ]
     },
     "execution_count": 29,
     "metadata": {},
     "output_type": "execute_result"
    }
   ],
   "source": [
    "s|s2"
   ]
  },
  {
   "cell_type": "markdown",
   "id": "9c849f1f",
   "metadata": {},
   "source": [
    "#intersection"
   ]
  },
  {
   "cell_type": "code",
   "execution_count": 31,
   "id": "c64533cd",
   "metadata": {},
   "outputs": [
    {
     "data": {
      "text/plain": [
       "{1, 54}"
      ]
     },
     "execution_count": 31,
     "metadata": {},
     "output_type": "execute_result"
    }
   ],
   "source": [
    "s&s2"
   ]
  },
  {
   "cell_type": "code",
   "execution_count": 32,
   "id": "a132a11d",
   "metadata": {},
   "outputs": [
    {
     "data": {
      "text/plain": [
       "{1, 54}"
      ]
     },
     "execution_count": 32,
     "metadata": {},
     "output_type": "execute_result"
    }
   ],
   "source": [
    "s.intersection(s2)"
   ]
  },
  {
   "cell_type": "markdown",
   "id": "d57d6bc2",
   "metadata": {},
   "source": [
    "#difference"
   ]
  },
  {
   "cell_type": "code",
   "execution_count": 33,
   "id": "1214dab2",
   "metadata": {},
   "outputs": [
    {
     "data": {
      "text/plain": [
       "{32, 33, 44}"
      ]
     },
     "execution_count": 33,
     "metadata": {},
     "output_type": "execute_result"
    }
   ],
   "source": [
    "s-s2"
   ]
  },
  {
   "cell_type": "code",
   "execution_count": 34,
   "id": "aee27dd5",
   "metadata": {},
   "outputs": [
    {
     "data": {
      "text/plain": [
       "{32, 33, 44}"
      ]
     },
     "execution_count": 34,
     "metadata": {},
     "output_type": "execute_result"
    }
   ],
   "source": [
    "s.difference(s2)"
   ]
  },
  {
   "cell_type": "markdown",
   "id": "dabe72cf",
   "metadata": {},
   "source": [
    "#superset"
   ]
  },
  {
   "cell_type": "code",
   "execution_count": 35,
   "id": "095bad8c",
   "metadata": {},
   "outputs": [
    {
     "data": {
      "text/plain": [
       "True"
      ]
     },
     "execution_count": 35,
     "metadata": {},
     "output_type": "execute_result"
    }
   ],
   "source": [
    "s = {1,2,3,4,5,6}\n",
    "s1 = {9,8,7,6,5,4,3,2,1}\n",
    "s1.issuperset(s)"
   ]
  },
  {
   "cell_type": "code",
   "execution_count": 37,
   "id": "125a5d5a",
   "metadata": {},
   "outputs": [
    {
     "data": {
      "text/plain": [
       "{2, 3, 4, 43, 5, 54, 6, 7, 8, 9, 'lia'}"
      ]
     },
     "execution_count": 37,
     "metadata": {},
     "output_type": "execute_result"
    }
   ],
   "source": [
    "s1^s2"
   ]
  },
  {
   "cell_type": "code",
   "execution_count": 38,
   "id": "c7ac878f",
   "metadata": {},
   "outputs": [
    {
     "data": {
      "text/plain": [
       "{7, 8, 9}"
      ]
     },
     "execution_count": 38,
     "metadata": {},
     "output_type": "execute_result"
    }
   ],
   "source": [
    "s.symmetric_difference(s1)"
   ]
  },
  {
   "cell_type": "code",
   "execution_count": 39,
   "id": "009fed6c",
   "metadata": {},
   "outputs": [
    {
     "data": {
      "text/plain": [
       "set"
      ]
     },
     "execution_count": 39,
     "metadata": {},
     "output_type": "execute_result"
    }
   ],
   "source": [
    "type(s)"
   ]
  },
  {
   "cell_type": "markdown",
   "id": "f9dd57b6",
   "metadata": {},
   "source": [
    "# tuple"
   ]
  },
  {
   "cell_type": "code",
   "execution_count": 52,
   "id": "e2119bf7",
   "metadata": {},
   "outputs": [],
   "source": [
    "t1 = (1,3,34,\"mina\",3,1,4,33,4,6)"
   ]
  },
  {
   "cell_type": "code",
   "execution_count": 53,
   "id": "bd7ad7ae",
   "metadata": {},
   "outputs": [
    {
     "data": {
      "text/plain": [
       "2"
      ]
     },
     "execution_count": 53,
     "metadata": {},
     "output_type": "execute_result"
    }
   ],
   "source": [
    "t1.count(3)"
   ]
  },
  {
   "cell_type": "code",
   "execution_count": 54,
   "id": "eaa0f9a6",
   "metadata": {},
   "outputs": [
    {
     "data": {
      "text/plain": [
       "9"
      ]
     },
     "execution_count": 54,
     "metadata": {},
     "output_type": "execute_result"
    }
   ],
   "source": [
    "t1.index(6)"
   ]
  },
  {
   "cell_type": "code",
   "execution_count": 55,
   "id": "c914aeb8",
   "metadata": {
    "scrolled": true
   },
   "outputs": [
    {
     "data": {
      "text/plain": [
       "tuple"
      ]
     },
     "execution_count": 55,
     "metadata": {},
     "output_type": "execute_result"
    }
   ],
   "source": [
    "type(t1)"
   ]
  },
  {
   "cell_type": "code",
   "execution_count": 56,
   "id": "ac57e087",
   "metadata": {},
   "outputs": [],
   "source": [
    "t = 2,1.3,2,5"
   ]
  },
  {
   "cell_type": "code",
   "execution_count": 57,
   "id": "1a10708d",
   "metadata": {},
   "outputs": [
    {
     "data": {
      "text/plain": [
       "tuple"
      ]
     },
     "execution_count": 57,
     "metadata": {},
     "output_type": "execute_result"
    }
   ],
   "source": [
    "type(t)"
   ]
  },
  {
   "cell_type": "markdown",
   "id": "5e2911be",
   "metadata": {},
   "source": [
    "# Dictionary"
   ]
  },
  {
   "cell_type": "code",
   "execution_count": 44,
   "id": "fa8a9812",
   "metadata": {},
   "outputs": [],
   "source": [
    "d = {1:\"one\",2:\"two\",3:3}"
   ]
  },
  {
   "cell_type": "code",
   "execution_count": 45,
   "id": "ded09c75",
   "metadata": {},
   "outputs": [
    {
     "data": {
      "text/plain": [
       "{1: 'one', 2: 'two', 3: 3}"
      ]
     },
     "execution_count": 45,
     "metadata": {},
     "output_type": "execute_result"
    }
   ],
   "source": [
    "d"
   ]
  },
  {
   "cell_type": "code",
   "execution_count": 46,
   "id": "44bcf7c6",
   "metadata": {},
   "outputs": [
    {
     "data": {
      "text/plain": [
       "dict"
      ]
     },
     "execution_count": 46,
     "metadata": {},
     "output_type": "execute_result"
    }
   ],
   "source": [
    "type(d)"
   ]
  },
  {
   "cell_type": "code",
   "execution_count": 47,
   "id": "89ef4f75",
   "metadata": {},
   "outputs": [
    {
     "data": {
      "text/plain": [
       "dict_keys([1, 2, 3])"
      ]
     },
     "execution_count": 47,
     "metadata": {},
     "output_type": "execute_result"
    }
   ],
   "source": [
    "d.keys()"
   ]
  },
  {
   "cell_type": "code",
   "execution_count": 48,
   "id": "26980544",
   "metadata": {},
   "outputs": [
    {
     "data": {
      "text/plain": [
       "dict_values(['one', 'two', 3])"
      ]
     },
     "execution_count": 48,
     "metadata": {},
     "output_type": "execute_result"
    }
   ],
   "source": [
    "d.values()"
   ]
  },
  {
   "cell_type": "code",
   "execution_count": 49,
   "id": "762c559b",
   "metadata": {},
   "outputs": [
    {
     "data": {
      "text/plain": [
       "dict_items([(1, 'one'), (2, 'two'), (3, 3)])"
      ]
     },
     "execution_count": 49,
     "metadata": {},
     "output_type": "execute_result"
    }
   ],
   "source": [
    "d.items()"
   ]
  },
  {
   "cell_type": "code",
   "execution_count": 59,
   "id": "60541cfa",
   "metadata": {},
   "outputs": [
    {
     "data": {
      "text/plain": [
       "'one'"
      ]
     },
     "execution_count": 59,
     "metadata": {},
     "output_type": "execute_result"
    }
   ],
   "source": [
    "d[1]"
   ]
  },
  {
   "cell_type": "code",
   "execution_count": 60,
   "id": "0c63571f",
   "metadata": {},
   "outputs": [
    {
     "data": {
      "text/plain": [
       "3"
      ]
     },
     "execution_count": 60,
     "metadata": {},
     "output_type": "execute_result"
    }
   ],
   "source": [
    "d.get(3)"
   ]
  },
  {
   "cell_type": "code",
   "execution_count": 63,
   "id": "113aa254",
   "metadata": {},
   "outputs": [
    {
     "data": {
      "text/plain": [
       "'two'"
      ]
     },
     "execution_count": 63,
     "metadata": {},
     "output_type": "execute_result"
    }
   ],
   "source": [
    "d.get(2)"
   ]
  },
  {
   "cell_type": "code",
   "execution_count": 64,
   "id": "33a8772c",
   "metadata": {},
   "outputs": [],
   "source": [
    "l = [\"mina\",'lia']"
   ]
  },
  {
   "cell_type": "code",
   "execution_count": 67,
   "id": "952e2f01",
   "metadata": {},
   "outputs": [
    {
     "data": {
      "text/plain": [
       "{'mina': None, 'lia': None}"
      ]
     },
     "execution_count": 67,
     "metadata": {},
     "output_type": "execute_result"
    }
   ],
   "source": [
    "dict.fromkeys(l)"
   ]
  },
  {
   "cell_type": "code",
   "execution_count": 69,
   "id": "7cb981ae",
   "metadata": {},
   "outputs": [],
   "source": [
    "di = dict.fromkeys(l,20)"
   ]
  },
  {
   "cell_type": "code",
   "execution_count": 70,
   "id": "1719e821",
   "metadata": {},
   "outputs": [
    {
     "data": {
      "text/plain": [
       "{'mina': 20, 'lia': 20}"
      ]
     },
     "execution_count": 70,
     "metadata": {},
     "output_type": "execute_result"
    }
   ],
   "source": [
    "di"
   ]
  },
  {
   "cell_type": "code",
   "execution_count": 73,
   "id": "1092f54a",
   "metadata": {},
   "outputs": [],
   "source": [
    "di[\"mina\"]=40"
   ]
  },
  {
   "cell_type": "code",
   "execution_count": 74,
   "id": "59974a95",
   "metadata": {},
   "outputs": [
    {
     "data": {
      "text/plain": [
       "{'mina': 40, 'lia': 20}"
      ]
     },
     "execution_count": 74,
     "metadata": {},
     "output_type": "execute_result"
    }
   ],
   "source": [
    "di"
   ]
  },
  {
   "cell_type": "code",
   "execution_count": null,
   "id": "538d3534",
   "metadata": {},
   "outputs": [],
   "source": [
    "items\n",
    "update\n",
    "pop\n",
    "pop.item \n",
    "set default"
   ]
  },
  {
   "cell_type": "code",
   "execution_count": 75,
   "id": "52cd1e7f",
   "metadata": {},
   "outputs": [
    {
     "data": {
      "text/plain": [
       "{1: 'one', 2: 'two', 3: 3}"
      ]
     },
     "execution_count": 75,
     "metadata": {},
     "output_type": "execute_result"
    }
   ],
   "source": [
    "d"
   ]
  },
  {
   "cell_type": "code",
   "execution_count": 76,
   "id": "e500ee18",
   "metadata": {},
   "outputs": [],
   "source": [
    "d.update({\"four\":4})"
   ]
  },
  {
   "cell_type": "code",
   "execution_count": 77,
   "id": "b9a22e79",
   "metadata": {},
   "outputs": [
    {
     "data": {
      "text/plain": [
       "{1: 'one', 2: 'two', 3: 3, 'four': 4}"
      ]
     },
     "execution_count": 77,
     "metadata": {},
     "output_type": "execute_result"
    }
   ],
   "source": [
    "d"
   ]
  },
  {
   "cell_type": "code",
   "execution_count": 78,
   "id": "d2a39e99",
   "metadata": {},
   "outputs": [
    {
     "data": {
      "text/plain": [
       "'one'"
      ]
     },
     "execution_count": 78,
     "metadata": {},
     "output_type": "execute_result"
    }
   ],
   "source": [
    "d.pop(1)"
   ]
  },
  {
   "cell_type": "code",
   "execution_count": 79,
   "id": "bb1bc0f8",
   "metadata": {},
   "outputs": [
    {
     "data": {
      "text/plain": [
       "{2: 'two', 3: 3, 'four': 4}"
      ]
     },
     "execution_count": 79,
     "metadata": {},
     "output_type": "execute_result"
    }
   ],
   "source": [
    "d"
   ]
  },
  {
   "cell_type": "code",
   "execution_count": 80,
   "id": "8ffbcf64",
   "metadata": {},
   "outputs": [
    {
     "data": {
      "text/plain": [
       "('four', 4)"
      ]
     },
     "execution_count": 80,
     "metadata": {},
     "output_type": "execute_result"
    }
   ],
   "source": [
    "d.popitem()"
   ]
  },
  {
   "cell_type": "code",
   "execution_count": 81,
   "id": "2d0bd6b0",
   "metadata": {},
   "outputs": [
    {
     "data": {
      "text/plain": [
       "{2: 'two', 3: 3}"
      ]
     },
     "execution_count": 81,
     "metadata": {},
     "output_type": "execute_result"
    }
   ],
   "source": [
    "d"
   ]
  },
  {
   "cell_type": "code",
   "execution_count": 82,
   "id": "e5adbb66",
   "metadata": {},
   "outputs": [],
   "source": [
    "d.setdefault(8)"
   ]
  },
  {
   "cell_type": "code",
   "execution_count": 83,
   "id": "248118c4",
   "metadata": {},
   "outputs": [
    {
     "data": {
      "text/plain": [
       "{2: 'two', 3: 3, 8: None}"
      ]
     },
     "execution_count": 83,
     "metadata": {},
     "output_type": "execute_result"
    }
   ],
   "source": [
    "d"
   ]
  },
  {
   "cell_type": "code",
   "execution_count": 85,
   "id": "cd54a0a7",
   "metadata": {},
   "outputs": [
    {
     "data": {
      "text/plain": [
       "{2: 'two', 3: 3, 8: 'eight'}"
      ]
     },
     "execution_count": 85,
     "metadata": {},
     "output_type": "execute_result"
    }
   ],
   "source": [
    "d[8]=\"eight\"\n",
    "d"
   ]
  },
  {
   "cell_type": "code",
   "execution_count": null,
   "id": "0c1b012a",
   "metadata": {},
   "outputs": [],
   "source": []
  }
 ],
 "metadata": {
  "kernelspec": {
   "display_name": "Python 3 (ipykernel)",
   "language": "python",
   "name": "python3"
  },
  "language_info": {
   "codemirror_mode": {
    "name": "ipython",
    "version": 3
   },
   "file_extension": ".py",
   "mimetype": "text/x-python",
   "name": "python",
   "nbconvert_exporter": "python",
   "pygments_lexer": "ipython3",
   "version": "3.9.13"
  }
 },
 "nbformat": 4,
 "nbformat_minor": 5
}
