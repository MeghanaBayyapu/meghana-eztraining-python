{
 "cells": [
  {
   "cell_type": "code",
   "execution_count": 1,
   "id": "5ec558db",
   "metadata": {},
   "outputs": [],
   "source": [
    "#Lambda Function:\n",
    "#It is called as anonymous function.When we want to use function concept alone without using function name then we apply concept\n",
    "#of Lambda function"
   ]
  },
  {
   "cell_type": "code",
   "execution_count": 40,
   "id": "72a9f901",
   "metadata": {},
   "outputs": [
    {
     "name": "stdout",
     "output_type": "stream",
     "text": [
      "[2, 4, 6]\n"
     ]
    }
   ],
   "source": [
    "L=[1,2,3]\n",
    "x=map(lambda x:x+x,L)\n",
    "print(list(x))"
   ]
  },
  {
   "cell_type": "code",
   "execution_count": 5,
   "id": "5403fbac",
   "metadata": {},
   "outputs": [],
   "source": [
    "#map:Helps to create iteration,it returns map"
   ]
  },
  {
   "cell_type": "code",
   "execution_count": 16,
   "id": "a8bb2885",
   "metadata": {},
   "outputs": [
    {
     "name": "stdout",
     "output_type": "stream",
     "text": [
      "[1, 4, 9]\n"
     ]
    }
   ],
   "source": [
    "res=map(lambda n:pow(n,2),L)\n",
    "print(list(res))"
   ]
  },
  {
   "cell_type": "code",
   "execution_count": 19,
   "id": "ee795622",
   "metadata": {},
   "outputs": [
    {
     "name": "stdout",
     "output_type": "stream",
     "text": [
      "sam\n"
     ]
    }
   ],
   "source": [
    "name=\"sam\"\n",
    "(lambda name:print(name)) (name)"
   ]
  },
  {
   "cell_type": "code",
   "execution_count": 20,
   "id": "7a5335de",
   "metadata": {},
   "outputs": [],
   "source": [
    "#Write a program after creating a list with even numbers within in the range(1,15).Now apply lambda function and create a new\n",
    "#list which should have square roots of the elements"
   ]
  },
  {
   "cell_type": "code",
   "execution_count": 25,
   "id": "df1c05f1",
   "metadata": {},
   "outputs": [
    {
     "name": "stdout",
     "output_type": "stream",
     "text": [
      "[1.4142135623730951, 2.0, 2.449489742783178, 2.8284271247461903, 3.1622776601683795, 3.4641016151377544, 3.7416573867739413]\n"
     ]
    }
   ],
   "source": [
    "L=[2,4,6,8,10,12,14]\n",
    "x=map(lambda n:pow(n,1/2),L)\n",
    "print(list(x))"
   ]
  },
  {
   "cell_type": "markdown",
   "id": "4b95813a",
   "metadata": {},
   "source": [
    "# OOPS"
   ]
  },
  {
   "cell_type": "code",
   "execution_count": 28,
   "id": "b3c7f905",
   "metadata": {},
   "outputs": [],
   "source": [
    "#Four pillars of OOPS\n",
    "#1.Absrtraction\n",
    "#2.Encapsulation\n",
    "#3.Inheritance\n",
    "#4.Polymorphism\n"
   ]
  },
  {
   "cell_type": "markdown",
   "id": "588a5641",
   "metadata": {},
   "source": [
    "# Abstraction"
   ]
  },
  {
   "cell_type": "code",
   "execution_count": 29,
   "id": "7ebc58b5",
   "metadata": {},
   "outputs": [],
   "source": [
    "#Abstraction:Hiding the implementation part showing what is required for the users is called as Abstraction.\n",
    "#Ex: exe file\n",
    "#We can make class or method as abstract,opposite to abstract is concrete."
   ]
  },
  {
   "cell_type": "code",
   "execution_count": 39,
   "id": "36445cb0",
   "metadata": {},
   "outputs": [
    {
     "name": "stdout",
     "output_type": "stream",
     "text": [
      "Abstraction Method\n",
      "2nd function\n"
     ]
    }
   ],
   "source": [
    "from abc import ABC, abstractmethod\n",
    "class abstractdemo(ABC):\n",
    "    @abstractmethod #called decorator to make the method(function) abstract one\n",
    "    def display(self):\n",
    "        None\n",
    "    @abstractmethod\n",
    "    def show(self):\n",
    "        None\n",
    "#Changing abstract to concrete\n",
    "class demo(abstractdemo):\n",
    "    def display(self):\n",
    "        print(\"Abstraction Method\")\n",
    "    def show(self):\n",
    "        print(\"2nd function\")\n",
    "obj=demo()\n",
    "obj.display()\n",
    "obj.show()"
   ]
  },
  {
   "cell_type": "markdown",
   "id": "dbe010ec",
   "metadata": {},
   "source": [
    "# Encapsulation"
   ]
  },
  {
   "cell_type": "code",
   "execution_count": null,
   "id": "732e0455",
   "metadata": {},
   "outputs": [],
   "source": [
    "#Binding data and function into a single entity\n",
    "\n",
    "#PUBLIC    : one class info can be accessed by any other class\n",
    "#PRIVATE   : can be used where it is declared /no inheritancs class\n",
    "#PROTECTED : can be accessed only when it got declared, whichever class inherited from this class there also we can use"
   ]
  },
  {
   "cell_type": "markdown",
   "id": "77957789",
   "metadata": {},
   "source": [
    "# Inheritance"
   ]
  },
  {
   "cell_type": "code",
   "execution_count": 41,
   "id": "25dbda27",
   "metadata": {},
   "outputs": [],
   "source": [
    "#Base class and derived class : Derived class will inherit the prorperties of base class\n",
    "#Base class: Parent class\n",
    "#Derived class: Child class\n"
   ]
  },
  {
   "cell_type": "code",
   "execution_count": 42,
   "id": "e8ab0027",
   "metadata": {},
   "outputs": [],
   "source": [
    "#TYPES OF INHERITANCE\n",
    "#1.Single Inheritance\n",
    "#2.Multiple Inheritance\n",
    "#3.Multilevel Inheritance\n",
    "#4.Hierarchial Inheritance\n",
    "#5.Hybrid Inheritance"
   ]
  },
  {
   "cell_type": "code",
   "execution_count": 44,
   "id": "d618f4cc",
   "metadata": {},
   "outputs": [
    {
     "name": "stdout",
     "output_type": "stream",
     "text": [
      "Parent class\n",
      "Child class\n"
     ]
    }
   ],
   "source": [
    "#One parent and one child class\n",
    "\n",
    "class parent:\n",
    "    def display(self):\n",
    "        print(\"Parent class\")\n",
    "        \n",
    "#Derived class\n",
    "\n",
    "class child(parent):\n",
    "    def show(self):\n",
    "        print(\"Child class\")\n",
    "        \n",
    "obj=child()\n",
    "obj.display()\n",
    "obj.show()"
   ]
  },
  {
   "cell_type": "code",
   "execution_count": 46,
   "id": "ca87faca",
   "metadata": {},
   "outputs": [
    {
     "name": "stdout",
     "output_type": "stream",
     "text": [
      "100\n"
     ]
    }
   ],
   "source": [
    "#Sinle Inheritance\n",
    "\n",
    "class A:\n",
    "    n=30\n",
    "class B(A):\n",
    "    def calc(self):  #self: used to access the instance variable in class \n",
    "        c=self.n+70\n",
    "        print(c)\n",
    "obj=B()\n",
    "obj.calc()"
   ]
  },
  {
   "cell_type": "code",
   "execution_count": 7,
   "id": "f82821a6",
   "metadata": {},
   "outputs": [
    {
     "name": "stdout",
     "output_type": "stream",
     "text": [
      "mom class\n",
      "dad class\n",
      "child class\n"
     ]
    }
   ],
   "source": [
    "#Multiple Inheritance\n",
    "\n",
    "class mom:\n",
    "    def mdisplay(self):\n",
    "       print(\"mom class\")\n",
    "class dad:\n",
    "    def ddisplay(self):\n",
    "      print(\"dad class\")\n",
    "class child(mom,dad):\n",
    "    def cdisplay(self):\n",
    "      print(\"child class\")\n",
    "c=child()\n",
    "c.mdisplay()\n",
    "c.ddisplay()\n",
    "c.cdisplay()"
   ]
  },
  {
   "cell_type": "code",
   "execution_count": 9,
   "id": "ae6354dd",
   "metadata": {},
   "outputs": [
    {
     "name": "stdout",
     "output_type": "stream",
     "text": [
      "Grangparent class\n",
      "Parent class\n",
      "Child class\n"
     ]
    }
   ],
   "source": [
    "#Multilevel Inheritance\n",
    "\n",
    "class grandparent:\n",
    "    def display(self):\n",
    "        print(\"Grangparent class\")\n",
    "class parent(grandparent):\n",
    "    def show(self):\n",
    "        print(\"Parent class\")\n",
    "class child(parent):\n",
    "    def printing(self):\n",
    "        print(\"Child class\")\n",
    "c=child()\n",
    "c.display()\n",
    "c.show()\n",
    "c.printing()"
   ]
  },
  {
   "cell_type": "code",
   "execution_count": 11,
   "id": "e8761e5d",
   "metadata": {},
   "outputs": [
    {
     "name": "stdout",
     "output_type": "stream",
     "text": [
      "Child class1\n",
      "Parent class\n",
      "Child class2\n",
      "Parent class\n"
     ]
    }
   ],
   "source": [
    "#Hierarchial Inheritance\n",
    "\n",
    "class parent:\n",
    "    def pdisplay(self):\n",
    "        print(\"Parent class\")\n",
    "class child1(parent):\n",
    "    def c1show(self):\n",
    "        print(\"Child class1\")\n",
    "class child2(parent):\n",
    "    def c2show(self):\n",
    "        print(\"Child class2\")\n",
    "c1=child1()\n",
    "c1.c1show()\n",
    "c1.pdisplay()\n",
    "c2=child2()\n",
    "c2.c2show()\n",
    "c2.pdisplay()"
   ]
  },
  {
   "cell_type": "code",
   "execution_count": 14,
   "id": "25d0aadc",
   "metadata": {},
   "outputs": [
    {
     "name": "stdout",
     "output_type": "stream",
     "text": [
      "kid1 child1 class\n",
      "Child1 class\n",
      "Parent class\n",
      "kid2 child1 class\n",
      "Child1 class\n",
      "Parent class\n",
      "kid1 child2 class\n",
      "Child2 class\n",
      "Parent class\n",
      "kid2 child2 class\n",
      "Child2 class\n",
      "Parent class\n"
     ]
    }
   ],
   "source": [
    "#Hybrid Inheritance\n",
    "\n",
    "class parent:\n",
    "    def pdisplay(self):\n",
    "        print(\"Parent class\")\n",
    "class child1(parent):\n",
    "    def c1show(self):\n",
    "        print(\"Child1 class\")\n",
    "class child2(parent):\n",
    "    def c2show(self):\n",
    "        print(\"Child2 class\")\n",
    "class kid1(child1):\n",
    "    def k1display(self):\n",
    "        print(\"kid1 child1 class\")\n",
    "class kid2(child1):\n",
    "    def k2display(self):\n",
    "        print(\"kid2 child1 class\")\n",
    "class kkid1(child2):\n",
    "    def k1show(self):\n",
    "        print(\"kid1 child2 class\")\n",
    "class kkid2(child2):\n",
    "    def k2show(self):\n",
    "        print(\"kid2 child2 class\")\n",
    "o1=kid1()\n",
    "o1.k1display()\n",
    "o1.c1show()\n",
    "o1.pdisplay()\n",
    "\n",
    "o2=kid2()\n",
    "o2.k2display()\n",
    "o2.c1show()\n",
    "o2.pdisplay()\n",
    "\n",
    "o3=kkid1()\n",
    "o3.k1show()\n",
    "o3.c2show()\n",
    "o3.pdisplay()\n",
    "\n",
    "o4=kkid2()\n",
    "o4.k2show()\n",
    "o4.c2show()\n",
    "o4.pdisplay()\n"
   ]
  },
  {
   "cell_type": "markdown",
   "id": "4befe6b5",
   "metadata": {},
   "source": [
    "# Encapsulation"
   ]
  },
  {
   "cell_type": "code",
   "execution_count": 15,
   "id": "e8346d0d",
   "metadata": {},
   "outputs": [],
   "source": [
    "#Public - variable\n",
    "#Private - syntax: __variable or __method or function(double underscore)\n",
    "#Protected - syntax: _variable (single underscore)"
   ]
  },
  {
   "cell_type": "code",
   "execution_count": 39,
   "id": "3d7f7cae",
   "metadata": {},
   "outputs": [
    {
     "name": "stdout",
     "output_type": "stream",
     "text": [
      "7\n",
      "Happy number\n"
     ]
    }
   ],
   "source": [
    "#\n",
    "\n",
    "a=int(input())\n",
    "while(a>1):\n",
    "    tot=0\n",
    "    for i in range(0,len(str(a))+1):\n",
    "        rem=a%10\n",
    "        tot=tot+rem**2\n",
    "        a=a//10\n",
    "    a=tot\n",
    "if a==1:\n",
    "    print(\"Happy number\")\n",
    "else:\n",
    "    print(\"Not a happy number\")    "
   ]
  },
  {
   "cell_type": "code",
   "execution_count": null,
   "id": "326ae8f1",
   "metadata": {},
   "outputs": [],
   "source": []
  }
 ],
 "metadata": {
  "kernelspec": {
   "display_name": "Python 3 (ipykernel)",
   "language": "python",
   "name": "python3"
  },
  "language_info": {
   "codemirror_mode": {
    "name": "ipython",
    "version": 3
   },
   "file_extension": ".py",
   "mimetype": "text/x-python",
   "name": "python",
   "nbconvert_exporter": "python",
   "pygments_lexer": "ipython3",
   "version": "3.9.13"
  }
 },
 "nbformat": 4,
 "nbformat_minor": 5
}
