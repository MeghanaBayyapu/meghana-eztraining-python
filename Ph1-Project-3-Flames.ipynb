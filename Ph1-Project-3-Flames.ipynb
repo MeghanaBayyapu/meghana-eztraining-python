{
 "cells": [
  {
   "cell_type": "code",
   "execution_count": 1,
   "id": "8e035632",
   "metadata": {},
   "outputs": [
    {
     "name": "stdout",
     "output_type": "stream",
     "text": [
      "Enter your name: divi\n",
      "Enter your name: buvi\n",
      "divi\n",
      "buvi\n",
      "4\n",
      "Relationship:  Affectionate\n"
     ]
    }
   ],
   "source": [
    "name1 = input(\"Enter your name: \").lower()\n",
    "name2 = input(\"Enter your name: \").lower()\n",
    "name1 = name1.replace(\" \",\" \")\n",
    "name2 = name2.replace(\" \",\" \")\n",
    "print(name1)\n",
    "print(name2)\n",
    "\n",
    "for i in name1:\n",
    "    for j in name2:\n",
    "        if i == j:\n",
    "            name1 = name1.replace(i,'',1)\n",
    "            name2 = name2.replace(j,'',1)\n",
    "count = len(name1+name2)\n",
    "print(count)\n",
    "if count>0:\n",
    "    list = [\"Friends\",\"Lovers\",\"Affectionate\",\"Marriage\",\"Enemies\",\"Siblings\"]\n",
    "    while len(list)>1:\n",
    "        c = count%len(list)\n",
    "        s_index = c-1\n",
    "#slicing\n",
    "        if s_index>0:\n",
    "            left = list[:s_index]\n",
    "            right = list[s_index+1:]\n",
    "            list = right+left\n",
    "        else:\n",
    "            list = list[:len(list)-1]\n",
    "    print(\"Relationship: \",list[0])\n",
    "else:\n",
    "    print(\"Enter different names\")"
   ]
  },
  {
   "cell_type": "code",
   "execution_count": null,
   "id": "108eebd1",
   "metadata": {},
   "outputs": [],
   "source": []
  }
 ],
 "metadata": {
  "kernelspec": {
   "display_name": "Python 3 (ipykernel)",
   "language": "python",
   "name": "python3"
  },
  "language_info": {
   "codemirror_mode": {
    "name": "ipython",
    "version": 3
   },
   "file_extension": ".py",
   "mimetype": "text/x-python",
   "name": "python",
   "nbconvert_exporter": "python",
   "pygments_lexer": "ipython3",
   "version": "3.9.13"
  }
 },
 "nbformat": 4,
 "nbformat_minor": 5
}
