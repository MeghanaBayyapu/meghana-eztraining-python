{
 "cells": [
  {
   "cell_type": "code",
   "execution_count": 22,
   "id": "23bddca6",
   "metadata": {},
   "outputs": [
    {
     "data": {
      "text/plain": [
       "{2: 4, 3: 9, 4: 16, 5: 25, 6: 36, 7: 49, 8: 64}"
      ]
     },
     "execution_count": 22,
     "metadata": {},
     "output_type": "execute_result"
    }
   ],
   "source": [
    "d = {n:n*n for n in range(2,9)}\n",
    "d"
   ]
  },
  {
   "cell_type": "code",
   "execution_count": 23,
   "id": "ce8b48ae",
   "metadata": {},
   "outputs": [
    {
     "data": {
      "text/plain": [
       "{'rice': 430, 'oil': 490, 'salt': 225, 'carrot': 160}"
      ]
     },
     "execution_count": 23,
     "metadata": {},
     "output_type": "execute_result"
    }
   ],
   "source": [
    "old = {\"rice\":86,\"oil\":98,\"salt\":45,\"carrot\":32}\n",
    "new = {products:price*5 for (products,price) in old.items()}\n",
    "new"
   ]
  },
  {
   "cell_type": "code",
   "execution_count": 24,
   "id": "8aa2789d",
   "metadata": {},
   "outputs": [
    {
     "name": "stdout",
     "output_type": "stream",
     "text": [
      "{'mina': 25, 'joy': 34, 'jk': 28}\n"
     ]
    }
   ],
   "source": [
    "dict = {\"mina\":25,\"joy\":34,\"lia\":18,\"jk\":28}\n",
    "d = {name:age for (name,age) in dict.items() if (age>18)}\n",
    "print(d)"
   ]
  },
  {
   "cell_type": "code",
   "execution_count": 25,
   "id": "7104d25a",
   "metadata": {},
   "outputs": [],
   "source": [
    "#1.create a list with 8 customers names display a dictionary which has customers names along with discounts for them from a particular shop."
   ]
  },
  {
   "cell_type": "code",
   "execution_count": 26,
   "id": "5e8479b3",
   "metadata": {},
   "outputs": [
    {
     "name": "stdout",
     "output_type": "stream",
     "text": [
      "{'lia': 38, 'rose': 38, 'john': 38, 'mina': 38, 'jin': 38, 'joy': 38, 'jackson': 38, 'emma': 38}\n"
     ]
    }
   ],
   "source": [
    "import random \n",
    "d = {}\n",
    "l = {\"mina\",\"joy\",\"jin\",\"lia\",\"john\",\"rose\",\"jackson\",\"emma\"}\n",
    "dii=d.fromkeys(l)\n",
    "for i in dii:\n",
    "    di = d.fromkeys(dii,random.randint(1,101))\n",
    "print(di)"
   ]
  },
  {
   "cell_type": "code",
   "execution_count": 27,
   "id": "1cf0b811",
   "metadata": {},
   "outputs": [
    {
     "data": {
      "text/plain": [
       "{'lia': 88,\n",
       " 'rose': 21,\n",
       " 'john': 66,\n",
       " 'mina': 68,\n",
       " 'jin': 83,\n",
       " 'joy': 96,\n",
       " 'jackson': 43,\n",
       " 'emma': 12}"
      ]
     },
     "execution_count": 27,
     "metadata": {},
     "output_type": "execute_result"
    }
   ],
   "source": [
    "import random\n",
    "l = {\"mina\",\"joy\",\"jin\",\"lia\",\"john\",\"rose\",\"jackson\",\"emma\"}\n",
    "d = {names:random.randint(1,101) for names in l }\n",
    "d"
   ]
  },
  {
   "cell_type": "code",
   "execution_count": 28,
   "id": "8b100389",
   "metadata": {},
   "outputs": [],
   "source": [
    "l = {\"mina\",\"joy\",\"jin\",\"lia\"}\n",
    "val = {21,23,56,12}\n",
    "d = {ke:vals for (ke,vals) in zip(l,val)}"
   ]
  },
  {
   "cell_type": "code",
   "execution_count": 29,
   "id": "af3dd996",
   "metadata": {},
   "outputs": [
    {
     "data": {
      "text/plain": [
       "{'joy': 56, 'lia': 12, 'mina': 21, 'jin': 23}"
      ]
     },
     "execution_count": 29,
     "metadata": {},
     "output_type": "execute_result"
    }
   ],
   "source": [
    "d"
   ]
  },
  {
   "cell_type": "code",
   "execution_count": 30,
   "id": "34ff21b3",
   "metadata": {},
   "outputs": [],
   "source": [
    "#2.create two lists first list contains 5 students and 2nd list contains their marks "
   ]
  },
  {
   "cell_type": "code",
   "execution_count": 31,
   "id": "76f7eb24",
   "metadata": {},
   "outputs": [
    {
     "data": {
      "text/plain": [
       "{'mina': 50.0, 'joy': 80.0, 'jin': 100.0, 'lia': 90.0, 'rose': 71.2}"
      ]
     },
     "execution_count": 31,
     "metadata": {},
     "output_type": "execute_result"
    }
   ],
   "source": [
    "stu = [\"mina\",\"joy\",\"jin\",\"lia\",\"rose\"]\n",
    "marks = [250,400,500,450,356]\n",
    "perc = []\n",
    "for i in marks:\n",
    "    per = (i/500)*100\n",
    "    perc.append(per)\n",
    "di = {stud:ma for (stud,ma) in zip(stu,perc)}\n",
    "di"
   ]
  },
  {
   "cell_type": "markdown",
   "id": "05425a88",
   "metadata": {},
   "source": [
    "# Strings"
   ]
  },
  {
   "cell_type": "code",
   "execution_count": 1,
   "id": "426de0cc",
   "metadata": {},
   "outputs": [
    {
     "data": {
      "text/plain": [
       "\"i'am 'meghana'\""
      ]
     },
     "execution_count": 1,
     "metadata": {},
     "output_type": "execute_result"
    }
   ],
   "source": [
    "a = \"i'am 'meghana'\"\n",
    "a"
   ]
  },
  {
   "cell_type": "code",
   "execution_count": 2,
   "id": "212682dd",
   "metadata": {},
   "outputs": [
    {
     "data": {
      "text/plain": [
       "\"'meghana'\""
      ]
     },
     "execution_count": 2,
     "metadata": {},
     "output_type": "execute_result"
    }
   ],
   "source": [
    "a = \"'meghana'\"\n",
    "a"
   ]
  },
  {
   "cell_type": "code",
   "execution_count": 34,
   "id": "2b88ad00",
   "metadata": {},
   "outputs": [],
   "source": [
    "a = \"\\\"Hello World\""
   ]
  },
  {
   "cell_type": "code",
   "execution_count": 35,
   "id": "0d9e8205",
   "metadata": {},
   "outputs": [
    {
     "data": {
      "text/plain": [
       "'\"Hello World'"
      ]
     },
     "execution_count": 35,
     "metadata": {},
     "output_type": "execute_result"
    }
   ],
   "source": [
    "a"
   ]
  },
  {
   "cell_type": "code",
   "execution_count": 36,
   "id": "9a61e8e7",
   "metadata": {},
   "outputs": [],
   "source": [
    "a = \"hello world\""
   ]
  },
  {
   "cell_type": "code",
   "execution_count": 37,
   "id": "214a0204",
   "metadata": {},
   "outputs": [
    {
     "data": {
      "text/plain": [
       "'hello world'"
      ]
     },
     "execution_count": 37,
     "metadata": {},
     "output_type": "execute_result"
    }
   ],
   "source": [
    "a"
   ]
  },
  {
   "cell_type": "code",
   "execution_count": 38,
   "id": "17f076ca",
   "metadata": {},
   "outputs": [
    {
     "data": {
      "text/plain": [
       "\"i'am\""
      ]
     },
     "execution_count": 38,
     "metadata": {},
     "output_type": "execute_result"
    }
   ],
   "source": [
    "a = 'i\\'am'\n",
    "a"
   ]
  },
  {
   "cell_type": "code",
   "execution_count": 39,
   "id": "40ed494e",
   "metadata": {},
   "outputs": [],
   "source": [
    "#string functions"
   ]
  },
  {
   "cell_type": "code",
   "execution_count": 4,
   "id": "1b722ce2",
   "metadata": {},
   "outputs": [
    {
     "data": {
      "text/plain": [
       "'HELLO WORLD'"
      ]
     },
     "execution_count": 4,
     "metadata": {},
     "output_type": "execute_result"
    }
   ],
   "source": [
    "s = \"Hello world\"\n",
    "s.upper()"
   ]
  },
  {
   "cell_type": "code",
   "execution_count": 5,
   "id": "feff5096",
   "metadata": {},
   "outputs": [],
   "source": [
    "b =s.lower()"
   ]
  },
  {
   "cell_type": "code",
   "execution_count": 6,
   "id": "ff7e368a",
   "metadata": {},
   "outputs": [
    {
     "data": {
      "text/plain": [
       "'Hello world'"
      ]
     },
     "execution_count": 6,
     "metadata": {},
     "output_type": "execute_result"
    }
   ],
   "source": [
    "b.capitalize()"
   ]
  },
  {
   "cell_type": "code",
   "execution_count": 7,
   "id": "ff4e4730",
   "metadata": {},
   "outputs": [
    {
     "data": {
      "text/plain": [
       "'hello xorld'"
      ]
     },
     "execution_count": 7,
     "metadata": {},
     "output_type": "execute_result"
    }
   ],
   "source": [
    "b.replace(\"w\",\"x\")"
   ]
  },
  {
   "cell_type": "code",
   "execution_count": 8,
   "id": "dd628e08",
   "metadata": {},
   "outputs": [
    {
     "data": {
      "text/plain": [
       "'*******************Hello world********************'"
      ]
     },
     "execution_count": 8,
     "metadata": {},
     "output_type": "execute_result"
    }
   ],
   "source": [
    "s.center(50,\"*\")"
   ]
  },
  {
   "cell_type": "code",
   "execution_count": 45,
   "id": "1a90e697",
   "metadata": {},
   "outputs": [
    {
     "data": {
      "text/plain": [
       "['Hello', 'world']"
      ]
     },
     "execution_count": 45,
     "metadata": {},
     "output_type": "execute_result"
    }
   ],
   "source": [
    "a = s.split()\n",
    "a"
   ]
  },
  {
   "cell_type": "code",
   "execution_count": 46,
   "id": "1a27f501",
   "metadata": {},
   "outputs": [
    {
     "data": {
      "text/plain": [
       "'hello world'"
      ]
     },
     "execution_count": 46,
     "metadata": {},
     "output_type": "execute_result"
    }
   ],
   "source": [
    "s.casefold()"
   ]
  },
  {
   "cell_type": "code",
   "execution_count": 47,
   "id": "25f3ffb8",
   "metadata": {},
   "outputs": [
    {
     "data": {
      "text/plain": [
       "['He', '', 'o wor', 'd']"
      ]
     },
     "execution_count": 47,
     "metadata": {},
     "output_type": "execute_result"
    }
   ],
   "source": [
    "b = s.split(\"l\")\n",
    "b"
   ]
  },
  {
   "cell_type": "code",
   "execution_count": 48,
   "id": "de91e56e",
   "metadata": {},
   "outputs": [
    {
     "data": {
      "text/plain": [
       "3"
      ]
     },
     "execution_count": 48,
     "metadata": {},
     "output_type": "execute_result"
    }
   ],
   "source": [
    "s.count(\"l\")"
   ]
  },
  {
   "cell_type": "code",
   "execution_count": 49,
   "id": "6d3c213a",
   "metadata": {},
   "outputs": [
    {
     "data": {
      "text/plain": [
       "3"
      ]
     },
     "execution_count": 49,
     "metadata": {},
     "output_type": "execute_result"
    }
   ],
   "source": [
    "s.count(\"l\",2,len(s))"
   ]
  },
  {
   "cell_type": "code",
   "execution_count": 50,
   "id": "b93cab88",
   "metadata": {},
   "outputs": [
    {
     "data": {
      "text/plain": [
       "False"
      ]
     },
     "execution_count": 50,
     "metadata": {},
     "output_type": "execute_result"
    }
   ],
   "source": [
    "s.endswith(\"l\",0,len(s))"
   ]
  },
  {
   "cell_type": "code",
   "execution_count": 51,
   "id": "f62257d3",
   "metadata": {},
   "outputs": [
    {
     "data": {
      "text/plain": [
       "4"
      ]
     },
     "execution_count": 51,
     "metadata": {},
     "output_type": "execute_result"
    }
   ],
   "source": [
    "s.find(\"o\",0,len(s))"
   ]
  },
  {
   "cell_type": "code",
   "execution_count": 52,
   "id": "c31eb189",
   "metadata": {},
   "outputs": [
    {
     "data": {
      "text/plain": [
       "2"
      ]
     },
     "execution_count": 52,
     "metadata": {},
     "output_type": "execute_result"
    }
   ],
   "source": [
    "s.index(\"l\",0,len(s))"
   ]
  },
  {
   "cell_type": "code",
   "execution_count": 53,
   "id": "778dcf6c",
   "metadata": {},
   "outputs": [
    {
     "data": {
      "text/plain": [
       "False"
      ]
     },
     "execution_count": 53,
     "metadata": {},
     "output_type": "execute_result"
    }
   ],
   "source": [
    "s.islower()"
   ]
  },
  {
   "cell_type": "code",
   "execution_count": 54,
   "id": "4b8783bb",
   "metadata": {},
   "outputs": [
    {
     "data": {
      "text/plain": [
       "False"
      ]
     },
     "execution_count": 54,
     "metadata": {},
     "output_type": "execute_result"
    }
   ],
   "source": [
    "s.isupper()"
   ]
  },
  {
   "cell_type": "code",
   "execution_count": 55,
   "id": "15d7db82",
   "metadata": {},
   "outputs": [
    {
     "data": {
      "text/plain": [
       "False"
      ]
     },
     "execution_count": 55,
     "metadata": {},
     "output_type": "execute_result"
    }
   ],
   "source": [
    "s.istitle()"
   ]
  },
  {
   "cell_type": "code",
   "execution_count": 56,
   "id": "03d82bdc",
   "metadata": {},
   "outputs": [
    {
     "data": {
      "text/plain": [
       "'hello world'"
      ]
     },
     "execution_count": 56,
     "metadata": {},
     "output_type": "execute_result"
    }
   ],
   "source": [
    "s.lower()"
   ]
  },
  {
   "cell_type": "code",
   "execution_count": 57,
   "id": "cb2ab45a",
   "metadata": {},
   "outputs": [
    {
     "data": {
      "text/plain": [
       "'Hello World'"
      ]
     },
     "execution_count": 57,
     "metadata": {},
     "output_type": "execute_result"
    }
   ],
   "source": [
    "s.title()"
   ]
  },
  {
   "cell_type": "code",
   "execution_count": 58,
   "id": "876bb7de",
   "metadata": {},
   "outputs": [
    {
     "data": {
      "text/plain": [
       "'w'"
      ]
     },
     "execution_count": 58,
     "metadata": {},
     "output_type": "execute_result"
    }
   ],
   "source": [
    "max(s)"
   ]
  },
  {
   "cell_type": "code",
   "execution_count": 59,
   "id": "7d21e30a",
   "metadata": {},
   "outputs": [
    {
     "data": {
      "text/plain": [
       "' '"
      ]
     },
     "execution_count": 59,
     "metadata": {},
     "output_type": "execute_result"
    }
   ],
   "source": [
    "min(s)"
   ]
  },
  {
   "cell_type": "code",
   "execution_count": 60,
   "id": "48bf56fb",
   "metadata": {},
   "outputs": [
    {
     "data": {
      "text/plain": [
       "10"
      ]
     },
     "execution_count": 60,
     "metadata": {},
     "output_type": "execute_result"
    }
   ],
   "source": [
    "s.rfind(\"d\",0,len(s))"
   ]
  },
  {
   "cell_type": "code",
   "execution_count": 61,
   "id": "f4771e07",
   "metadata": {},
   "outputs": [
    {
     "data": {
      "text/plain": [
       "True"
      ]
     },
     "execution_count": 61,
     "metadata": {},
     "output_type": "execute_result"
    }
   ],
   "source": [
    "s.startswith(\"Hello\",0,len(s))"
   ]
  },
  {
   "cell_type": "markdown",
   "id": "b075778c",
   "metadata": {},
   "source": [
    "# Mutable and Immutable"
   ]
  },
  {
   "cell_type": "code",
   "execution_count": 62,
   "id": "254cd1bb",
   "metadata": {},
   "outputs": [],
   "source": [
    "#mutable : can be changed after creation\n",
    "#   1.list\n",
    "#   2.dictionary\n",
    "#   3.set"
   ]
  },
  {
   "cell_type": "code",
   "execution_count": 63,
   "id": "c96e9a99",
   "metadata": {},
   "outputs": [],
   "source": [
    "#immutable :cant be changed after creation\n",
    "# int\n",
    "# tuple\n",
    "# float"
   ]
  },
  {
   "cell_type": "code",
   "execution_count": 64,
   "id": "88a49cf4",
   "metadata": {},
   "outputs": [
    {
     "data": {
      "text/plain": [
       "3110432624720"
      ]
     },
     "execution_count": 64,
     "metadata": {},
     "output_type": "execute_result"
    }
   ],
   "source": [
    "a = 56\n",
    "id(a)"
   ]
  },
  {
   "cell_type": "code",
   "execution_count": 65,
   "id": "84d33738",
   "metadata": {},
   "outputs": [
    {
     "data": {
      "text/plain": [
       "3110432435888"
      ]
     },
     "execution_count": 65,
     "metadata": {},
     "output_type": "execute_result"
    }
   ],
   "source": [
    "a = 45\n",
    "id(a)"
   ]
  },
  {
   "cell_type": "code",
   "execution_count": 66,
   "id": "23d07d0b",
   "metadata": {},
   "outputs": [
    {
     "data": {
      "text/plain": [
       "3110514091008"
      ]
     },
     "execution_count": 66,
     "metadata": {},
     "output_type": "execute_result"
    }
   ],
   "source": [
    "l = [1,3,4,5]\n",
    "id(l)"
   ]
  },
  {
   "cell_type": "code",
   "execution_count": 67,
   "id": "abbc21c2",
   "metadata": {},
   "outputs": [
    {
     "data": {
      "text/plain": [
       "[1, 3, 4, 5, 32, 4]"
      ]
     },
     "execution_count": 67,
     "metadata": {},
     "output_type": "execute_result"
    }
   ],
   "source": [
    "l.extend([32,4])\n",
    "l"
   ]
  },
  {
   "cell_type": "code",
   "execution_count": 68,
   "id": "e297422d",
   "metadata": {},
   "outputs": [
    {
     "data": {
      "text/plain": [
       "3110514091008"
      ]
     },
     "execution_count": 68,
     "metadata": {},
     "output_type": "execute_result"
    }
   ],
   "source": [
    "id(l)"
   ]
  },
  {
   "cell_type": "code",
   "execution_count": 69,
   "id": "69f86154",
   "metadata": {},
   "outputs": [],
   "source": [
    "#get one string as input along with character find out and dispaly whether the character is in string or not "
   ]
  },
  {
   "cell_type": "code",
   "execution_count": 70,
   "id": "fbc45f79",
   "metadata": {},
   "outputs": [],
   "source": [
    "#check palindrom"
   ]
  },
  {
   "cell_type": "code",
   "execution_count": 71,
   "id": "43ba7403",
   "metadata": {},
   "outputs": [],
   "source": [
    "#check ur string contains spaces or not. if yes count the spaces  "
   ]
  },
  {
   "cell_type": "code",
   "execution_count": 10,
   "id": "66830323",
   "metadata": {},
   "outputs": [
    {
     "name": "stdout",
     "output_type": "stream",
     "text": [
      "Enter the string: hello\n",
      "l\n",
      "Yes\n"
     ]
    }
   ],
   "source": [
    "s = input(\"Enter the string: \")\n",
    "ch = input()\n",
    "if ch in s:\n",
    "    print(\"Yes\")\n",
    "else:\n",
    "    print(\"No\")"
   ]
  },
  {
   "cell_type": "code",
   "execution_count": 73,
   "id": "90b365fc",
   "metadata": {},
   "outputs": [
    {
     "name": "stdout",
     "output_type": "stream",
     "text": [
      "Enter string: radar\n",
      "Palindrome\n"
     ]
    }
   ],
   "source": [
    "a = input(\"Enter string: \")\n",
    "b = a[::-1]\n",
    "if a == b:\n",
    "    print(\"Palindrome\")\n",
    "else:\n",
    "    print(\"Not a palindrome\")"
   ]
  },
  {
   "cell_type": "code",
   "execution_count": 11,
   "id": "0cf7a1fe",
   "metadata": {},
   "outputs": [
    {
     "name": "stdout",
     "output_type": "stream",
     "text": [
      "Enter string:h e ll o\n",
      "3\n"
     ]
    }
   ],
   "source": [
    "a = input(\"Enter string:\")\n",
    "count = 0\n",
    "for i in a:\n",
    "    if i == \" \":\n",
    "        count = count+1\n",
    "print(count)"
   ]
  },
  {
   "cell_type": "code",
   "execution_count": 75,
   "id": "65df221f",
   "metadata": {},
   "outputs": [],
   "source": [
    "#create a list of vowels. get one string as input count vowels in the list"
   ]
  },
  {
   "cell_type": "code",
   "execution_count": 12,
   "id": "ddcecef1",
   "metadata": {},
   "outputs": [
    {
     "name": "stdout",
     "output_type": "stream",
     "text": [
      "aebcde\n",
      "3\n"
     ]
    }
   ],
   "source": [
    "l = ['a','e','i','o','u','A','E','I','O','U']\n",
    "n = input()\n",
    "count = 0\n",
    "for i in n:\n",
    "    for j in l:\n",
    "        if i == j:\n",
    "            count = count+1\n",
    "print(count)"
   ]
  },
  {
   "cell_type": "code",
   "execution_count": 77,
   "id": "514cf3fd",
   "metadata": {},
   "outputs": [
    {
     "name": "stdout",
     "output_type": "stream",
     "text": [
      "CEIL  12.5 13\n"
     ]
    }
   ],
   "source": [
    "import math\n",
    "print(\"CEIL  12.5\",math.ceil(12.5))"
   ]
  },
  {
   "cell_type": "code",
   "execution_count": 78,
   "id": "4e8d848a",
   "metadata": {},
   "outputs": [
    {
     "name": "stdout",
     "output_type": "stream",
     "text": [
      "floor  12.5 12\n"
     ]
    }
   ],
   "source": [
    "print(\"floor  12.5\",math.floor(12.5))"
   ]
  },
  {
   "cell_type": "code",
   "execution_count": 79,
   "id": "8d96412f",
   "metadata": {},
   "outputs": [
    {
     "name": "stdout",
     "output_type": "stream",
     "text": [
      "sqrt 12.5:  3.5355339059327378\n"
     ]
    }
   ],
   "source": [
    "print(\"sqrt 12.5: \",math.sqrt(12.5))"
   ]
  },
  {
   "cell_type": "code",
   "execution_count": 80,
   "id": "43a616b7",
   "metadata": {},
   "outputs": [
    {
     "name": "stdout",
     "output_type": "stream",
     "text": [
      "factorial  12 479001600\n"
     ]
    }
   ],
   "source": [
    "print(\"factorial  12\",math.factorial(12))"
   ]
  },
  {
   "cell_type": "code",
   "execution_count": 81,
   "id": "f1f1745e",
   "metadata": {},
   "outputs": [
    {
     "name": "stdout",
     "output_type": "stream",
     "text": [
      "power 12,5:  248832.0\n"
     ]
    }
   ],
   "source": [
    "print(\"power 12,5: \",math.pow(12,5))"
   ]
  },
  {
   "cell_type": "code",
   "execution_count": 83,
   "id": "967eb3d0",
   "metadata": {},
   "outputs": [
    {
     "name": "stdout",
     "output_type": "stream",
     "text": [
      "remainder 12,5 2.0\n"
     ]
    }
   ],
   "source": [
    "print(\"remainder 12,5\",math.fmod(12,5))"
   ]
  },
  {
   "cell_type": "code",
   "execution_count": 84,
   "id": "21360549",
   "metadata": {},
   "outputs": [
    {
     "data": {
      "text/plain": [
       "(3, 1)"
      ]
     },
     "execution_count": 84,
     "metadata": {},
     "output_type": "execute_result"
    }
   ],
   "source": [
    "a,b = divmod(10,3)\n",
    "a,b"
   ]
  },
  {
   "cell_type": "code",
   "execution_count": null,
   "id": "b6b5d326",
   "metadata": {},
   "outputs": [],
   "source": []
  }
 ],
 "metadata": {
  "kernelspec": {
   "display_name": "Python 3 (ipykernel)",
   "language": "python",
   "name": "python3"
  },
  "language_info": {
   "codemirror_mode": {
    "name": "ipython",
    "version": 3
   },
   "file_extension": ".py",
   "mimetype": "text/x-python",
   "name": "python",
   "nbconvert_exporter": "python",
   "pygments_lexer": "ipython3",
   "version": "3.9.13"
  }
 },
 "nbformat": 4,
 "nbformat_minor": 5
}
