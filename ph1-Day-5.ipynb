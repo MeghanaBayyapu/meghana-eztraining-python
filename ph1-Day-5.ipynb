{
 "cells": [
  {
   "cell_type": "markdown",
   "id": "f180cad1",
   "metadata": {},
   "source": [
    "# Random Module"
   ]
  },
  {
   "cell_type": "code",
   "execution_count": 1,
   "id": "d4614f78",
   "metadata": {},
   "outputs": [],
   "source": [
    "#sample\n",
    "#shuffle\n",
    "#choice\n",
    "#random()\n",
    "#randint"
   ]
  },
  {
   "cell_type": "code",
   "execution_count": 3,
   "id": "6cd63762",
   "metadata": {},
   "outputs": [],
   "source": [
    "import random as r"
   ]
  },
  {
   "cell_type": "code",
   "execution_count": 4,
   "id": "f7189e09",
   "metadata": {},
   "outputs": [
    {
     "data": {
      "text/plain": [
       "'Hello world'"
      ]
     },
     "execution_count": 4,
     "metadata": {},
     "output_type": "execute_result"
    }
   ],
   "source": [
    "x = \"Hello world\"\n",
    "x"
   ]
  },
  {
   "cell_type": "code",
   "execution_count": 5,
   "id": "58922940",
   "metadata": {},
   "outputs": [
    {
     "data": {
      "text/plain": [
       "['l', 'd', 'r']"
      ]
     },
     "execution_count": 5,
     "metadata": {},
     "output_type": "execute_result"
    }
   ],
   "source": [
    "r.sample(x,3)"
   ]
  },
  {
   "cell_type": "code",
   "execution_count": 6,
   "id": "20e702fb",
   "metadata": {},
   "outputs": [
    {
     "data": {
      "text/plain": [
       "[1, 'mina', 5, 'lia']"
      ]
     },
     "execution_count": 6,
     "metadata": {},
     "output_type": "execute_result"
    }
   ],
   "source": [
    "l = [1,\"mina\",5,\"lia\"]\n",
    "l"
   ]
  },
  {
   "cell_type": "code",
   "execution_count": 7,
   "id": "e7253720",
   "metadata": {},
   "outputs": [
    {
     "data": {
      "text/plain": [
       "[5, 'lia', 'mina', 1]"
      ]
     },
     "execution_count": 7,
     "metadata": {},
     "output_type": "execute_result"
    }
   ],
   "source": [
    "r.shuffle(l)\n",
    "l"
   ]
  },
  {
   "cell_type": "code",
   "execution_count": 8,
   "id": "00fccd34",
   "metadata": {},
   "outputs": [
    {
     "data": {
      "text/plain": [
       "'lia'"
      ]
     },
     "execution_count": 8,
     "metadata": {},
     "output_type": "execute_result"
    }
   ],
   "source": [
    "r.choice(l)"
   ]
  },
  {
   "cell_type": "code",
   "execution_count": 9,
   "id": "7aa7935d",
   "metadata": {},
   "outputs": [
    {
     "data": {
      "text/plain": [
       "'w'"
      ]
     },
     "execution_count": 9,
     "metadata": {},
     "output_type": "execute_result"
    }
   ],
   "source": [
    "r.choice(x)"
   ]
  },
  {
   "cell_type": "code",
   "execution_count": 10,
   "id": "359002ea",
   "metadata": {},
   "outputs": [
    {
     "data": {
      "text/plain": [
       "0.5034617484945868"
      ]
     },
     "execution_count": 10,
     "metadata": {},
     "output_type": "execute_result"
    }
   ],
   "source": [
    "a = r.random()\n",
    "a"
   ]
  },
  {
   "cell_type": "code",
   "execution_count": 11,
   "id": "791af4c0",
   "metadata": {},
   "outputs": [
    {
     "data": {
      "text/plain": [
       "[1, 'mina']"
      ]
     },
     "execution_count": 11,
     "metadata": {},
     "output_type": "execute_result"
    }
   ],
   "source": [
    "r.sample(l,2)"
   ]
  },
  {
   "cell_type": "code",
   "execution_count": 12,
   "id": "b3cb199d",
   "metadata": {},
   "outputs": [
    {
     "data": {
      "text/plain": [
       "17"
      ]
     },
     "execution_count": 12,
     "metadata": {},
     "output_type": "execute_result"
    }
   ],
   "source": [
    "r.randint(12,34)"
   ]
  },
  {
   "cell_type": "code",
   "execution_count": 13,
   "id": "683f2616",
   "metadata": {},
   "outputs": [
    {
     "data": {
      "text/plain": [
       "[10, 20, 30, 40, 50, 60]"
      ]
     },
     "execution_count": 13,
     "metadata": {},
     "output_type": "execute_result"
    }
   ],
   "source": [
    "a = [10,20,30,40,50,60]\n",
    "a"
   ]
  },
  {
   "cell_type": "code",
   "execution_count": 14,
   "id": "c19eefac",
   "metadata": {},
   "outputs": [
    {
     "data": {
      "text/plain": [
       "[10, 60, 10, 10, 30, 20, 20, 60, 50]"
      ]
     },
     "execution_count": 14,
     "metadata": {},
     "output_type": "execute_result"
    }
   ],
   "source": [
    "r.choices(a,k=9)"
   ]
  },
  {
   "cell_type": "code",
   "execution_count": 15,
   "id": "76dd857a",
   "metadata": {},
   "outputs": [
    {
     "data": {
      "text/plain": [
       "['mina', 1, 'mina', 5, 5, 'lia', 1, 'mina', 'mina', 'lia']"
      ]
     },
     "execution_count": 15,
     "metadata": {},
     "output_type": "execute_result"
    }
   ],
   "source": [
    "r.choices(l,k = 10)"
   ]
  },
  {
   "cell_type": "code",
   "execution_count": 16,
   "id": "918b27b3",
   "metadata": {},
   "outputs": [
    {
     "data": {
      "text/plain": [
       "3.3392532185952226"
      ]
     },
     "execution_count": 16,
     "metadata": {},
     "output_type": "execute_result"
    }
   ],
   "source": [
    "r.uniform(1,10)"
   ]
  },
  {
   "cell_type": "code",
   "execution_count": 17,
   "id": "295167fa",
   "metadata": {},
   "outputs": [
    {
     "data": {
      "text/plain": [
       "['w', 'l', 'd', 'o', 'd', 'd', ' ']"
      ]
     },
     "execution_count": 17,
     "metadata": {},
     "output_type": "execute_result"
    }
   ],
   "source": [
    "r.choices(x,k = 7)"
   ]
  },
  {
   "cell_type": "code",
   "execution_count": 18,
   "id": "5dbf1c3e",
   "metadata": {},
   "outputs": [],
   "source": [
    "#to see the functions in a particular module"
   ]
  },
  {
   "cell_type": "code",
   "execution_count": 19,
   "id": "09266ddd",
   "metadata": {},
   "outputs": [
    {
     "data": {
      "text/plain": [
       "['BPF',\n",
       " 'LOG4',\n",
       " 'NV_MAGICCONST',\n",
       " 'RECIP_BPF',\n",
       " 'Random',\n",
       " 'SG_MAGICCONST',\n",
       " 'SystemRandom',\n",
       " 'TWOPI',\n",
       " '_Sequence',\n",
       " '_Set',\n",
       " '__all__',\n",
       " '__builtins__',\n",
       " '__cached__',\n",
       " '__doc__',\n",
       " '__file__',\n",
       " '__loader__',\n",
       " '__name__',\n",
       " '__package__',\n",
       " '__spec__',\n",
       " '_accumulate',\n",
       " '_acos',\n",
       " '_bisect',\n",
       " '_ceil',\n",
       " '_cos',\n",
       " '_e',\n",
       " '_exp',\n",
       " '_floor',\n",
       " '_inst',\n",
       " '_log',\n",
       " '_os',\n",
       " '_pi',\n",
       " '_random',\n",
       " '_repeat',\n",
       " '_sha512',\n",
       " '_sin',\n",
       " '_sqrt',\n",
       " '_test',\n",
       " '_test_generator',\n",
       " '_urandom',\n",
       " '_warn',\n",
       " 'betavariate',\n",
       " 'choice',\n",
       " 'choices',\n",
       " 'expovariate',\n",
       " 'gammavariate',\n",
       " 'gauss',\n",
       " 'getrandbits',\n",
       " 'getstate',\n",
       " 'lognormvariate',\n",
       " 'normalvariate',\n",
       " 'paretovariate',\n",
       " 'randbytes',\n",
       " 'randint',\n",
       " 'random',\n",
       " 'randrange',\n",
       " 'sample',\n",
       " 'seed',\n",
       " 'setstate',\n",
       " 'shuffle',\n",
       " 'triangular',\n",
       " 'uniform',\n",
       " 'vonmisesvariate',\n",
       " 'weibullvariate']"
      ]
     },
     "execution_count": 19,
     "metadata": {},
     "output_type": "execute_result"
    }
   ],
   "source": [
    "b = dir(r)\n",
    "b"
   ]
  },
  {
   "cell_type": "markdown",
   "id": "15c0e21a",
   "metadata": {},
   "source": [
    "# Calendar Module"
   ]
  },
  {
   "cell_type": "code",
   "execution_count": 20,
   "id": "192bf45f",
   "metadata": {},
   "outputs": [],
   "source": [
    "import calendar as cd"
   ]
  },
  {
   "cell_type": "code",
   "execution_count": 21,
   "id": "36c33f2d",
   "metadata": {},
   "outputs": [
    {
     "data": {
      "text/plain": [
       "'                                  2023\\n\\n      January                   February                   March\\nMo Tu We Th Fr Sa Su      Mo Tu We Th Fr Sa Su      Mo Tu We Th Fr Sa Su\\n                   1             1  2  3  4  5             1  2  3  4  5\\n 2  3  4  5  6  7  8       6  7  8  9 10 11 12       6  7  8  9 10 11 12\\n 9 10 11 12 13 14 15      13 14 15 16 17 18 19      13 14 15 16 17 18 19\\n16 17 18 19 20 21 22      20 21 22 23 24 25 26      20 21 22 23 24 25 26\\n23 24 25 26 27 28 29      27 28                     27 28 29 30 31\\n30 31\\n\\n       April                      May                       June\\nMo Tu We Th Fr Sa Su      Mo Tu We Th Fr Sa Su      Mo Tu We Th Fr Sa Su\\n                1  2       1  2  3  4  5  6  7                1  2  3  4\\n 3  4  5  6  7  8  9       8  9 10 11 12 13 14       5  6  7  8  9 10 11\\n10 11 12 13 14 15 16      15 16 17 18 19 20 21      12 13 14 15 16 17 18\\n17 18 19 20 21 22 23      22 23 24 25 26 27 28      19 20 21 22 23 24 25\\n24 25 26 27 28 29 30      29 30 31                  26 27 28 29 30\\n\\n        July                     August                  September\\nMo Tu We Th Fr Sa Su      Mo Tu We Th Fr Sa Su      Mo Tu We Th Fr Sa Su\\n                1  2          1  2  3  4  5  6                   1  2  3\\n 3  4  5  6  7  8  9       7  8  9 10 11 12 13       4  5  6  7  8  9 10\\n10 11 12 13 14 15 16      14 15 16 17 18 19 20      11 12 13 14 15 16 17\\n17 18 19 20 21 22 23      21 22 23 24 25 26 27      18 19 20 21 22 23 24\\n24 25 26 27 28 29 30      28 29 30 31               25 26 27 28 29 30\\n31\\n\\n      October                   November                  December\\nMo Tu We Th Fr Sa Su      Mo Tu We Th Fr Sa Su      Mo Tu We Th Fr Sa Su\\n                   1             1  2  3  4  5                   1  2  3\\n 2  3  4  5  6  7  8       6  7  8  9 10 11 12       4  5  6  7  8  9 10\\n 9 10 11 12 13 14 15      13 14 15 16 17 18 19      11 12 13 14 15 16 17\\n16 17 18 19 20 21 22      20 21 22 23 24 25 26      18 19 20 21 22 23 24\\n23 24 25 26 27 28 29      27 28 29 30               25 26 27 28 29 30 31\\n30 31\\n'"
      ]
     },
     "execution_count": 21,
     "metadata": {},
     "output_type": "execute_result"
    }
   ],
   "source": [
    "cd.calendar(2023)"
   ]
  },
  {
   "cell_type": "code",
   "execution_count": 22,
   "id": "a216ad54",
   "metadata": {},
   "outputs": [
    {
     "data": {
      "text/plain": [
       "'   February 2023\\nMo Tu We Th Fr Sa Su\\n       1  2  3  4  5\\n 6  7  8  9 10 11 12\\n13 14 15 16 17 18 19\\n20 21 22 23 24 25 26\\n27 28\\n'"
      ]
     },
     "execution_count": 22,
     "metadata": {},
     "output_type": "execute_result"
    }
   ],
   "source": [
    "cd.month(2023,2)"
   ]
  },
  {
   "cell_type": "code",
   "execution_count": 23,
   "id": "8510eda4",
   "metadata": {},
   "outputs": [
    {
     "data": {
      "text/plain": [
       "'    January 2023\\nTu We Th Fr Sa Su Mo\\n                1  2\\n 3  4  5  6  7  8  9\\n10 11 12 13 14 15 16\\n17 18 19 20 21 22 23\\n24 25 26 27 28 29 30\\n31\\n'"
      ]
     },
     "execution_count": 23,
     "metadata": {},
     "output_type": "execute_result"
    }
   ],
   "source": [
    "cd.setfirstweekday(cd.TUESDAY)\n",
    "cd.month(2023,1)"
   ]
  },
  {
   "cell_type": "code",
   "execution_count": 24,
   "id": "554ac02f",
   "metadata": {},
   "outputs": [
    {
     "data": {
      "text/plain": [
       "'   December 1995\\nTu We Th Fr Sa Su Mo\\n          1  2  3  4\\n 5  6  7  8  9 10 11\\n12 13 14 15 16 17 18\\n19 20 21 22 23 24 25\\n26 27 28 29 30 31\\n'"
      ]
     },
     "execution_count": 24,
     "metadata": {},
     "output_type": "execute_result"
    }
   ],
   "source": [
    "cd.month(1995,12)"
   ]
  },
  {
   "cell_type": "markdown",
   "id": "52e9a0e3",
   "metadata": {},
   "source": [
    "# Date and Time Module"
   ]
  },
  {
   "cell_type": "code",
   "execution_count": 25,
   "id": "58893e4a",
   "metadata": {},
   "outputs": [],
   "source": [
    "import datetime as dt"
   ]
  },
  {
   "cell_type": "code",
   "execution_count": 26,
   "id": "2248ab0f",
   "metadata": {},
   "outputs": [
    {
     "data": {
      "text/plain": [
       "datetime.datetime(2023, 2, 3, 13, 24, 11, 845306)"
      ]
     },
     "execution_count": 26,
     "metadata": {},
     "output_type": "execute_result"
    }
   ],
   "source": [
    "a = dt.datetime.now()\n",
    "a"
   ]
  },
  {
   "cell_type": "code",
   "execution_count": 27,
   "id": "8bbc1993",
   "metadata": {},
   "outputs": [
    {
     "data": {
      "text/plain": [
       "'23'"
      ]
     },
     "execution_count": 27,
     "metadata": {},
     "output_type": "execute_result"
    }
   ],
   "source": [
    "b = a.strftime(\"%y\")\n",
    "b"
   ]
  },
  {
   "cell_type": "code",
   "execution_count": 28,
   "id": "caa798dd",
   "metadata": {},
   "outputs": [
    {
     "data": {
      "text/plain": [
       "'2023'"
      ]
     },
     "execution_count": 28,
     "metadata": {},
     "output_type": "execute_result"
    }
   ],
   "source": [
    "a.strftime(\"%Y\")"
   ]
  },
  {
   "cell_type": "markdown",
   "id": "5a06f2ee",
   "metadata": {},
   "source": [
    "# Functions"
   ]
  },
  {
   "cell_type": "code",
   "execution_count": 29,
   "id": "6f715cd4",
   "metadata": {},
   "outputs": [],
   "source": [
    "#CLASSIFICATION:\n",
    "#   predefined functions \n",
    "#  user-defined functions \n",
    "#for code reusability we use functions. let's say we want to use a particular concept multiple times in our program\n",
    "#instead of writing the same code multiple times we can write it once include that inside a function and can call the\n",
    "#function wherever we need it.\n",
    "#TYPES:\n",
    "#   1.functions without arguments without return values\n",
    "#   2.functions without arguments with return values\n",
    "#   3.functions with arguments without return values\n",
    "#   4 unctions with arguments with return values"
   ]
  },
  {
   "cell_type": "markdown",
   "id": "e6248e53",
   "metadata": {},
   "source": [
    "# 1.functions without arguments without return values"
   ]
  },
  {
   "cell_type": "code",
   "execution_count": 30,
   "id": "9766e0ed",
   "metadata": {},
   "outputs": [],
   "source": [
    "def sample():#definition or description\n",
    "    a = int(input(\"enter: \"))\n",
    "    b = int(input(\"ENTER: \"))\n",
    "    print(a+b)"
   ]
  },
  {
   "cell_type": "code",
   "execution_count": 31,
   "id": "e9fb5f28",
   "metadata": {},
   "outputs": [
    {
     "name": "stdout",
     "output_type": "stream",
     "text": [
      "enter: 12\n",
      "ENTER: 3\n",
      "15\n"
     ]
    }
   ],
   "source": [
    "sample() #function call"
   ]
  },
  {
   "cell_type": "code",
   "execution_count": 33,
   "id": "7c503255",
   "metadata": {},
   "outputs": [
    {
     "name": "stdout",
     "output_type": "stream",
     "text": [
      "enter: 2 4 3\n",
      "24\n"
     ]
    }
   ],
   "source": [
    "def mul():\n",
    "    pro = 1\n",
    "    a = list(map(int,input(\"enter: \").split()))\n",
    "    for i in a:\n",
    "        pro = pro*i\n",
    "    print(pro)\n",
    "mul()"
   ]
  },
  {
   "cell_type": "markdown",
   "id": "b0412ea4",
   "metadata": {},
   "source": [
    "# 2.functions without arguments with return values"
   ]
  },
  {
   "cell_type": "code",
   "execution_count": 34,
   "id": "cafb6a09",
   "metadata": {},
   "outputs": [
    {
     "name": "stdout",
     "output_type": "stream",
     "text": [
      "enter: 23\n",
      "ENTER: 21\n",
      "44\n"
     ]
    }
   ],
   "source": [
    "def samp():#definition or description\n",
    "    a = int(input(\"enter: \"))\n",
    "    b = int(input(\"ENTER: \"))\n",
    "    sum = a+b\n",
    "    return sum \n",
    "re = samp()\n",
    "print(re)"
   ]
  },
  {
   "cell_type": "markdown",
   "id": "8d87c453",
   "metadata": {},
   "source": [
    "# 3.functions with arguments without return values"
   ]
  },
  {
   "cell_type": "code",
   "execution_count": 35,
   "id": "280b1f23",
   "metadata": {},
   "outputs": [
    {
     "name": "stdout",
     "output_type": "stream",
     "text": [
      "55\n"
     ]
    }
   ],
   "source": [
    "def samp(a,b):#definition or description\n",
    "    sum = a+b \n",
    "    print(sum)\n",
    "samp(12,43)"
   ]
  },
  {
   "cell_type": "code",
   "execution_count": 36,
   "id": "35415e7e",
   "metadata": {},
   "outputs": [
    {
     "name": "stdout",
     "output_type": "stream",
     "text": [
      "1: 121\n",
      "2: 21\n",
      "142\n"
     ]
    }
   ],
   "source": [
    "def samp(a,b):#definition or description\n",
    "    sum = a+b \n",
    "    print(sum)\n",
    "n1 = int(input(\"1: \"))\n",
    "n2 = int(input(\"2: \"))\n",
    "samp(n1,n2)"
   ]
  },
  {
   "cell_type": "markdown",
   "id": "82375424",
   "metadata": {},
   "source": [
    "# 4 functions with arguments with return values"
   ]
  },
  {
   "cell_type": "code",
   "execution_count": 37,
   "id": "a8c6d200",
   "metadata": {},
   "outputs": [
    {
     "name": "stdout",
     "output_type": "stream",
     "text": [
      "1: 12\n",
      "2: 43\n",
      "55\n"
     ]
    }
   ],
   "source": [
    "def samp(a,b):#definition or description\n",
    "    sum = a+b \n",
    "    return(sum)\n",
    "n1 = int(input(\"1: \"))\n",
    "n2 = int(input(\"2: \"))\n",
    "a = samp(n1,n2)\n",
    "print(a)"
   ]
  },
  {
   "cell_type": "code",
   "execution_count": 38,
   "id": "3c2d3430",
   "metadata": {},
   "outputs": [],
   "source": [
    "#lemons prgm using functions type1 \n",
    "#find factors of the given number using functions type2\n",
    "#print multiplication table of the given number using function type 3\n",
    "#findout sum of digits of the given number using functions type4 "
   ]
  },
  {
   "cell_type": "code",
   "execution_count": 47,
   "id": "68d9d9bb",
   "metadata": {},
   "outputs": [
    {
     "name": "stdout",
     "output_type": "stream",
     "text": [
      "34\n",
      "Exceeded value:  13\n"
     ]
    }
   ],
   "source": [
    "def lem():\n",
    "    a = int(input())\n",
    "    if a>21:\n",
    "        b = a-21\n",
    "        print(\"Exceeded value: \",b)\n",
    "    elif a<21:\n",
    "        b = 21-a\n",
    "        print(\"shortage: \",b)\n",
    "    else:\n",
    "        print(\"Sufficient\")\n",
    "lem()"
   ]
  },
  {
   "cell_type": "code",
   "execution_count": 42,
   "id": "2b0b4bad",
   "metadata": {},
   "outputs": [
    {
     "name": "stdout",
     "output_type": "stream",
     "text": [
      "6\n",
      "720\n"
     ]
    }
   ],
   "source": [
    "def fact():\n",
    "    fac = 1 \n",
    "    a = int(input())\n",
    "    for i in range(1,a+1):\n",
    "        fac = fac*a\n",
    "        a = a-1 \n",
    "    return fac \n",
    "fa = fact()\n",
    "print(fa)"
   ]
  },
  {
   "cell_type": "code",
   "execution_count": 44,
   "id": "f1404ae0",
   "metadata": {},
   "outputs": [
    {
     "name": "stdout",
     "output_type": "stream",
     "text": [
      "6\n",
      "[1, 2, 3, 6]\n"
     ]
    }
   ],
   "source": [
    "def  fact():\n",
    "    l = []\n",
    "    a = int(input())\n",
    "    for i in range(1,a+1):\n",
    "        if a%i == 0:\n",
    "            l.append(i)\n",
    "    return l \n",
    "factors = fact()\n",
    "print(factors)"
   ]
  },
  {
   "cell_type": "code",
   "execution_count": 45,
   "id": "4ad9c3ee",
   "metadata": {},
   "outputs": [
    {
     "name": "stdout",
     "output_type": "stream",
     "text": [
      "3 x 1 = 3\n",
      "3 x 2 = 6\n",
      "3 x 3 = 9\n",
      "3 x 4 = 12\n",
      "3 x 5 = 15\n",
      "3 x 6 = 18\n",
      "3 x 7 = 21\n",
      "3 x 8 = 24\n",
      "3 x 9 = 27\n",
      "3 x 10 = 30\n"
     ]
    }
   ],
   "source": [
    "def mult(a):\n",
    "    for i in range(1,11):\n",
    "        pro = a*i\n",
    "        print(a,\"x\",i,\"=\",pro)\n",
    "mult(3)"
   ]
  },
  {
   "cell_type": "code",
   "execution_count": 46,
   "id": "b08d421c",
   "metadata": {},
   "outputs": [
    {
     "name": "stdout",
     "output_type": "stream",
     "text": [
      "10\n"
     ]
    }
   ],
   "source": [
    "def dig(a):\n",
    "    sum =  0\n",
    "    for i in range(0,len(a)):\n",
    "        sum = sum +int(a[i])\n",
    "    return(sum)\n",
    "sd = dig('1234')\n",
    "print(sd)"
   ]
  },
  {
   "cell_type": "markdown",
   "id": "ae7cb608",
   "metadata": {},
   "source": [
    "# Recursive function"
   ]
  },
  {
   "cell_type": "code",
   "execution_count": 48,
   "id": "9a313cfa",
   "metadata": {},
   "outputs": [],
   "source": [
    "# A function which calls itself is called recursive function."
   ]
  },
  {
   "cell_type": "code",
   "execution_count": 49,
   "id": "797f14e5",
   "metadata": {},
   "outputs": [
    {
     "name": "stdout",
     "output_type": "stream",
     "text": [
      "Enter a number: 5\n",
      "Enter a number: 5\n",
      "Enter a number: 5\n",
      "Enter a number: 5\n",
      "Enter a number: 5\n",
      "Enter a number: 4\n",
      "over\n"
     ]
    }
   ],
   "source": [
    "def display():\n",
    "    a = int(input(\"Enter a number: \"))\n",
    "    if a == 5:\n",
    "        display()\n",
    "    else:\n",
    "        print(\"over\")\n",
    "display()"
   ]
  },
  {
   "cell_type": "code",
   "execution_count": 51,
   "id": "7551365f",
   "metadata": {},
   "outputs": [
    {
     "name": "stdout",
     "output_type": "stream",
     "text": [
      "1234\n",
      "10\n"
     ]
    }
   ],
   "source": [
    "def mul(a):\n",
    "    sum = 0 \n",
    "    while a!=0:\n",
    "        rem = a%10\n",
    "        sum = sum+rem\n",
    "        a = a//10\n",
    "    return sum \n",
    "n = int(input())\n",
    "res = mul(n)\n",
    "print(res)"
   ]
  },
  {
   "cell_type": "code",
   "execution_count": 50,
   "id": "ecfb5fa2",
   "metadata": {},
   "outputs": [
    {
     "name": "stdout",
     "output_type": "stream",
     "text": [
      "720\n"
     ]
    }
   ],
   "source": [
    "def fact(n):\n",
    "    if n == 0:\n",
    "        return 1\n",
    "    else:\n",
    "        return n* fact(n-1)\n",
    "re = fact(6)\n",
    "print(re)"
   ]
  },
  {
   "cell_type": "code",
   "execution_count": 52,
   "id": "a755c329",
   "metadata": {},
   "outputs": [
    {
     "name": "stdout",
     "output_type": "stream",
     "text": [
      "enter:12\n"
     ]
    }
   ],
   "source": [
    "n = int(input(\"enter:\"))\n",
    "a = 0 \n",
    "b = 1 \n",
    "count = 0 \n",
    "while(count<=n):\n",
    "    sum = a+b \n",
    "    a = b\n",
    "    b = sum \n",
    "    count = count + 1 \n",
    "    "
   ]
  }
 ],
 "metadata": {
  "kernelspec": {
   "display_name": "Python 3 (ipykernel)",
   "language": "python",
   "name": "python3"
  },
  "language_info": {
   "codemirror_mode": {
    "name": "ipython",
    "version": 3
   },
   "file_extension": ".py",
   "mimetype": "text/x-python",
   "name": "python",
   "nbconvert_exporter": "python",
   "pygments_lexer": "ipython3",
   "version": "3.9.13"
  }
 },
 "nbformat": 4,
 "nbformat_minor": 5
}
